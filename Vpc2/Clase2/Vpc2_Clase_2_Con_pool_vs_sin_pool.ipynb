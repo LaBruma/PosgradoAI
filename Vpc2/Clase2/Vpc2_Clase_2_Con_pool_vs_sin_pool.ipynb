{
  "nbformat": 4,
  "nbformat_minor": 0,
  "metadata": {
    "kernelspec": {
      "display_name": "Python 3",
      "language": "python",
      "name": "python3"
    },
    "language_info": {
      "codemirror_mode": {
        "name": "ipython",
        "version": 3
      },
      "file_extension": ".py",
      "mimetype": "text/x-python",
      "name": "python",
      "nbconvert_exporter": "python",
      "pygments_lexer": "ipython3",
      "version": "3.7.6"
    },
    "colab": {
      "name": "Vpc2 - Clase 2 - Copia de Con_pool_vs_sin_pool.ipynb",
      "provenance": [],
      "collapsed_sections": []
    }
  },
  "cells": [
    {
      "cell_type": "markdown",
      "metadata": {
        "id": "soCLllHwMgiT"
      },
      "source": [
        "## Experimento para ver el efecto de una capa POOL "
      ]
    },
    {
      "cell_type": "code",
      "metadata": {
        "id": "vLMhXOBSMgiU"
      },
      "source": [
        "import numpy as np\n",
        "import pandas as pd\n",
        "%matplotlib inline\n",
        "import matplotlib as mpl\n",
        "import matplotlib.pyplot as plt"
      ],
      "execution_count": null,
      "outputs": []
    },
    {
      "cell_type": "code",
      "metadata": {
        "id": "s3kqywe9MgiY"
      },
      "source": [
        "import tensorflow as tf\n",
        "from tensorflow import keras"
      ],
      "execution_count": null,
      "outputs": []
    },
    {
      "cell_type": "markdown",
      "metadata": {
        "id": "kWwNk5AlMgib"
      },
      "source": [
        "## Dataset: Fashion Mnist\n",
        "\n",
        "Link  https://keras.io/datasets/#fashion-mnist-database-of-fashion-articles\n",
        "\n",
        "Dataset que consiste de 60,000 imágenes de entrenamiento en blanco y negro catalogadas en 10 categorías y un test set de 10,000 imágenes. Los labels/rótulos son:\n",
        "\n",
        "| Label |\tDescription |\n",
        "--- | --- |\n",
        "| 0\t| T-shirt/top\n",
        "| 1\t| Trouser\n",
        "| 2\t| Pullover \n",
        "| 3\t| Dress\n",
        "| 4\t| Coat\n",
        "| 5\t| Sandal\n",
        "| 6\t| Shirt\n",
        "| 7\t| Sneaker\n",
        "| 8\t| Bag\n",
        "| 9\t| Ankle boot\n",
        "\n",
        "### Para importar\n",
        "from keras.datasets import fashion_mnist\n",
        "\n",
        "> (x_train, y_train), (x_test, y_test) = fashion_mnist.load_data()\n",
        "\n",
        "Retorna:\n",
        "2 tuplas:\n",
        "1. x_train, x_test: array de uint8 de imágenes blanco y negro de dimensiones (num_samples, 28, 28)\n",
        "2. y_train, y_test: array de uint8 d rótulos (enteros en el rango range 0-9) con dimensiones (num_samples,)."
      ]
    },
    {
      "cell_type": "code",
      "metadata": {
        "id": "KOy1QP9sMgic",
        "colab": {
          "base_uri": "https://localhost:8080/"
        },
        "outputId": "d4458e05-7845-499a-d04c-512448084bdf"
      },
      "source": [
        "fashion_mnist = keras.datasets.fashion_mnist\n",
        "(X_train_full, y_train_full), (X_test, y_test) = fashion_mnist.load_data()"
      ],
      "execution_count": null,
      "outputs": [
        {
          "output_type": "stream",
          "text": [
            "Downloading data from https://storage.googleapis.com/tensorflow/tf-keras-datasets/train-labels-idx1-ubyte.gz\n",
            "32768/29515 [=================================] - 0s 0us/step\n",
            "Downloading data from https://storage.googleapis.com/tensorflow/tf-keras-datasets/train-images-idx3-ubyte.gz\n",
            "26427392/26421880 [==============================] - 0s 0us/step\n",
            "Downloading data from https://storage.googleapis.com/tensorflow/tf-keras-datasets/t10k-labels-idx1-ubyte.gz\n",
            "8192/5148 [===============================================] - 0s 0us/step\n",
            "Downloading data from https://storage.googleapis.com/tensorflow/tf-keras-datasets/t10k-images-idx3-ubyte.gz\n",
            "4423680/4422102 [==============================] - 0s 0us/step\n"
          ],
          "name": "stdout"
        }
      ]
    },
    {
      "cell_type": "code",
      "metadata": {
        "id": "5X0Y3T_-Mgie"
      },
      "source": [
        "class_names = [\"T-shirt/top\", \"Trouser\", \"Pullover\", \"Dress\", \"Coat\",\n",
        "               \"Sandal\", \"Shirt\", \"Sneaker\", \"Bag\", \"Ankle boot\"]"
      ],
      "execution_count": null,
      "outputs": []
    },
    {
      "cell_type": "markdown",
      "metadata": {
        "id": "eEom-9LkMgih"
      },
      "source": [
        "### Redimensionamos los datos"
      ]
    },
    {
      "cell_type": "code",
      "metadata": {
        "id": "sUGEjL_IMgih"
      },
      "source": [
        "X_train_full = X_train_full.reshape((60000, 28, 28, 1))\n",
        "X_test = X_test.reshape((10000, 28, 28, 1))"
      ],
      "execution_count": null,
      "outputs": []
    },
    {
      "cell_type": "markdown",
      "metadata": {
        "id": "br4e_zl0Mgik"
      },
      "source": [
        "### Normalización"
      ]
    },
    {
      "cell_type": "code",
      "metadata": {
        "id": "_eaCFmNIMgik"
      },
      "source": [
        "X_train_n = X_train_full / 255.\n",
        "X_test_n = X_test / 255."
      ],
      "execution_count": null,
      "outputs": []
    },
    {
      "cell_type": "markdown",
      "metadata": {
        "id": "0JCGlU07Mgin"
      },
      "source": [
        "### Dividimos los datos en datasets de entrenamiento/validación/test"
      ]
    },
    {
      "cell_type": "code",
      "metadata": {
        "id": "MMsJIxuNMgio"
      },
      "source": [
        "X_valid, X_train = X_train_n[:5000], X_train_n[5000:]\n",
        "y_valid, y_train = y_train_full[:5000], y_train_full[5000:]\n",
        "X_test = X_test_n"
      ],
      "execution_count": null,
      "outputs": []
    },
    {
      "cell_type": "markdown",
      "metadata": {
        "id": "XLvwPacnMgir"
      },
      "source": [
        "### Arquitectura con Pooling vs sin Pooling\n",
        "\n",
        "![image.png](attachment:image.png)"
      ]
    },
    {
      "cell_type": "markdown",
      "metadata": {
        "id": "-WkR17tAMgir"
      },
      "source": [
        "### Pooling vs No Pooling"
      ]
    },
    {
      "cell_type": "code",
      "metadata": {
        "id": "O7VLUQp5Mgis"
      },
      "source": [
        "model_a = keras.models.Sequential()\n",
        "model_a.add(keras.layers.Conv2D(filters = 32, kernel_size = (3, 3), strides=1, padding='valid', activation='relu', input_shape=(28, 28, 1)))\n",
        "model_a.add(keras.layers.MaxPooling2D((2, 2)))\n",
        "# Agregamos una capas más\n",
        "model_a.add(keras.layers.Conv2D(filters = 16, kernel_size = (3, 3), strides=1, padding='valid', activation='relu'))\n",
        "model_a.add(keras.layers.MaxPooling2D((2, 2)))\n",
        "# Fin agregado\n",
        "model_a.add(keras.layers.Flatten())\n",
        "model_a.add(keras.layers.Dense(300, activation=\"relu\"))\n",
        "model_a.add(keras.layers.Dense(100, activation=\"relu\"))\n",
        "model_a.add(keras.layers.Dense(10, activation=\"softmax\"))\n",
        "\n",
        "# el segundo modelo no tiene Max Pool, notar que strides = 2 en la capa convolucional para que los dos modelos tengan\n",
        "# la misma cantidad de parámetros\n",
        "model_b = keras.models.Sequential()\n",
        "model_b.add(keras.layers.Conv2D(filters = 32, kernel_size = (3, 3), strides=2, padding='valid', activation='relu', input_shape=(28, 28, 1)))\n",
        "# Agregamos una capas más\n",
        "model_b.add(keras.layers.Conv2D(filters = 16, kernel_size = (3, 3), strides=1, padding='valid', activation='relu'))\n",
        "# Fin agregado\n",
        "model_b.add(keras.layers.Flatten())\n",
        "model_b.add(keras.layers.Dense(300, activation=\"relu\"))\n",
        "model_b.add(keras.layers.Dense(100, activation=\"relu\"))\n",
        "model_b.add(keras.layers.Dense(10, activation=\"softmax\"))\n"
      ],
      "execution_count": null,
      "outputs": []
    },
    {
      "cell_type": "code",
      "metadata": {
        "id": "-byXB946Mgiu",
        "colab": {
          "base_uri": "https://localhost:8080/"
        },
        "outputId": "da6551f1-5216-4d3c-f7cb-0517ab9db36a"
      },
      "source": [
        "model_a.summary()"
      ],
      "execution_count": null,
      "outputs": [
        {
          "output_type": "stream",
          "text": [
            "Model: \"sequential_15\"\n",
            "_________________________________________________________________\n",
            "Layer (type)                 Output Shape              Param #   \n",
            "=================================================================\n",
            "conv2d_29 (Conv2D)           (None, 26, 26, 32)        320       \n",
            "_________________________________________________________________\n",
            "max_pooling2d_15 (MaxPooling (None, 13, 13, 32)        0         \n",
            "_________________________________________________________________\n",
            "conv2d_30 (Conv2D)           (None, 11, 11, 16)        4624      \n",
            "_________________________________________________________________\n",
            "max_pooling2d_16 (MaxPooling (None, 5, 5, 16)          0         \n",
            "_________________________________________________________________\n",
            "flatten_8 (Flatten)          (None, 400)               0         \n",
            "_________________________________________________________________\n",
            "dense_24 (Dense)             (None, 300)               120300    \n",
            "_________________________________________________________________\n",
            "dense_25 (Dense)             (None, 100)               30100     \n",
            "_________________________________________________________________\n",
            "dense_26 (Dense)             (None, 10)                1010      \n",
            "=================================================================\n",
            "Total params: 156,354\n",
            "Trainable params: 156,354\n",
            "Non-trainable params: 0\n",
            "_________________________________________________________________\n"
          ],
          "name": "stdout"
        }
      ]
    },
    {
      "cell_type": "code",
      "metadata": {
        "id": "Wfp5ATVqMgiy",
        "colab": {
          "base_uri": "https://localhost:8080/"
        },
        "outputId": "01ef7639-a0f5-48ae-bda5-e01e7162abbe"
      },
      "source": [
        "model_b.summary()"
      ],
      "execution_count": null,
      "outputs": [
        {
          "output_type": "stream",
          "text": [
            "Model: \"sequential_16\"\n",
            "_________________________________________________________________\n",
            "Layer (type)                 Output Shape              Param #   \n",
            "=================================================================\n",
            "conv2d_31 (Conv2D)           (None, 13, 13, 32)        320       \n",
            "_________________________________________________________________\n",
            "conv2d_32 (Conv2D)           (None, 11, 11, 16)        4624      \n",
            "_________________________________________________________________\n",
            "flatten_9 (Flatten)          (None, 1936)              0         \n",
            "_________________________________________________________________\n",
            "dense_27 (Dense)             (None, 300)               581100    \n",
            "_________________________________________________________________\n",
            "dense_28 (Dense)             (None, 100)               30100     \n",
            "_________________________________________________________________\n",
            "dense_29 (Dense)             (None, 10)                1010      \n",
            "=================================================================\n",
            "Total params: 617,154\n",
            "Trainable params: 617,154\n",
            "Non-trainable params: 0\n",
            "_________________________________________________________________\n"
          ],
          "name": "stdout"
        }
      ]
    },
    {
      "cell_type": "code",
      "metadata": {
        "id": "xrYOfWXOMgi0"
      },
      "source": [
        "model_a.compile(loss=\"sparse_categorical_crossentropy\",\n",
        "              optimizer=\"sgd\",\n",
        "              metrics=[\"accuracy\"])\n",
        "\n",
        "model_b.compile(loss=\"sparse_categorical_crossentropy\",\n",
        "              optimizer=\"sgd\",\n",
        "              metrics=[\"accuracy\"])"
      ],
      "execution_count": null,
      "outputs": []
    },
    {
      "cell_type": "code",
      "metadata": {
        "id": "cFTBddfKMgi2",
        "colab": {
          "base_uri": "https://localhost:8080/"
        },
        "outputId": "f6e55e3a-0f5f-4ee0-b0df-93840260f24c"
      },
      "source": [
        "model_history_a = model_a.fit(X_train, y_train, epochs=3,batch_size= 64,\n",
        "                    validation_data=(X_valid, y_valid))"
      ],
      "execution_count": null,
      "outputs": [
        {
          "output_type": "stream",
          "text": [
            "Epoch 1/3\n",
            "860/860 [==============================] - 32s 37ms/step - loss: 1.1225 - accuracy: 0.5876 - val_loss: 0.7314 - val_accuracy: 0.7134\n",
            "Epoch 2/3\n",
            "860/860 [==============================] - 32s 37ms/step - loss: 0.6633 - accuracy: 0.7515 - val_loss: 0.7719 - val_accuracy: 0.7322\n",
            "Epoch 3/3\n",
            "860/860 [==============================] - 32s 37ms/step - loss: 0.5729 - accuracy: 0.7846 - val_loss: 0.5200 - val_accuracy: 0.8110\n"
          ],
          "name": "stdout"
        }
      ]
    },
    {
      "cell_type": "code",
      "metadata": {
        "id": "PeCTxg_-Mgi6",
        "colab": {
          "base_uri": "https://localhost:8080/",
          "height": 324
        },
        "outputId": "8ad8bec4-8698-4365-b902-9cccef20fe29"
      },
      "source": [
        "import pandas as pd\n",
        "\n",
        "pd.DataFrame(model_history_a.history).plot(figsize=(8, 5))\n",
        "plt.grid(True)\n",
        "plt.gca().set_ylim(0, 1)\n",
        "plt.show()"
      ],
      "execution_count": null,
      "outputs": [
        {
          "output_type": "display_data",
          "data": {
            "image/png": "[encoded data removed]",
            "text/plain": [
              "<Figure size 576x360 with 1 Axes>"
            ]
          },
          "metadata": {
            "tags": [],
            "needs_background": "light"
          }
        }
      ]
    },
    {
      "cell_type": "code",
      "metadata": {
        "id": "gRBm_RC5Mgi8",
        "colab": {
          "base_uri": "https://localhost:8080/"
        },
        "outputId": "7427c842-030f-4dbe-84a9-3e0bb7ef873d"
      },
      "source": [
        "ev = model_a.evaluate(X_test_n, y_test)"
      ],
      "execution_count": null,
      "outputs": [
        {
          "output_type": "stream",
          "text": [
            "313/313 [==============================] - 2s 7ms/step - loss: 0.5744 - accuracy: 0.7824\n"
          ],
          "name": "stdout"
        }
      ]
    },
    {
      "cell_type": "code",
      "metadata": {
        "id": "JGRTkBTZMgi_"
      },
      "source": [
        "X_new = X_test[:3]"
      ],
      "execution_count": null,
      "outputs": []
    },
    {
      "cell_type": "code",
      "metadata": {
        "id": "ZamreViFMgjB",
        "colab": {
          "base_uri": "https://localhost:8080/"
        },
        "outputId": "8d937958-a7e3-4680-c3b2-2b62b88adf1b"
      },
      "source": [
        "y_pred = model_a.predict_classes(X_new)\n",
        "y_pred"
      ],
      "execution_count": null,
      "outputs": [
        {
          "output_type": "execute_result",
          "data": {
            "text/plain": [
              "array([9, 2, 1])"
            ]
          },
          "metadata": {
            "tags": []
          },
          "execution_count": 40
        }
      ]
    },
    {
      "cell_type": "code",
      "metadata": {
        "id": "NM8uKf5wMgjD",
        "colab": {
          "base_uri": "https://localhost:8080/"
        },
        "outputId": "33e801a5-4074-4de1-ed65-e413ce107885"
      },
      "source": [
        "y_test[:3]"
      ],
      "execution_count": null,
      "outputs": [
        {
          "output_type": "execute_result",
          "data": {
            "text/plain": [
              "array([9, 2, 1], dtype=uint8)"
            ]
          },
          "metadata": {
            "tags": []
          },
          "execution_count": 41
        }
      ]
    },
    {
      "cell_type": "code",
      "metadata": {
        "id": "Qd97ymg6MgjF",
        "colab": {
          "base_uri": "https://localhost:8080/",
          "height": 282
        },
        "outputId": "79e12e8a-019e-477b-e2df-26597a6c6e41"
      },
      "source": [
        "print(plt.imshow(X_test[2].reshape((28,28))))"
      ],
      "execution_count": null,
      "outputs": [
        {
          "output_type": "stream",
          "text": [
            "AxesImage(54,36;334.8x217.44)\n"
          ],
          "name": "stdout"
        },
        {
          "output_type": "display_data",
          "data": {
            "image/png": "[encoded data removed]",
            "text/plain": [
              "<Figure size 432x288 with 1 Axes>"
            ]
          },
          "metadata": {
            "tags": [],
            "needs_background": "light"
          }
        }
      ]
    },
    {
      "cell_type": "code",
      "metadata": {
        "id": "2SUfVbMoMgjI",
        "colab": {
          "base_uri": "https://localhost:8080/"
        },
        "outputId": "ef9deeb8-3514-4cc4-8f8f-cd3ae90f65d6"
      },
      "source": [
        "model_history_b = model_b.fit(X_train, y_train, epochs=3,batch_size= 64,\n",
        "                    validation_data=(X_valid, y_valid))"
      ],
      "execution_count": null,
      "outputs": [
        {
          "output_type": "stream",
          "text": [
            "Epoch 1/3\n",
            "860/860 [==============================] - 23s 26ms/step - loss: 1.0461 - accuracy: 0.6296 - val_loss: 0.6727 - val_accuracy: 0.7394\n",
            "Epoch 2/3\n",
            "860/860 [==============================] - 23s 26ms/step - loss: 0.5642 - accuracy: 0.7893 - val_loss: 0.6607 - val_accuracy: 0.7494\n",
            "Epoch 3/3\n",
            "860/860 [==============================] - 23s 27ms/step - loss: 0.4950 - accuracy: 0.8191 - val_loss: 0.4480 - val_accuracy: 0.8442\n"
          ],
          "name": "stdout"
        }
      ]
    },
    {
      "cell_type": "code",
      "metadata": {
        "id": "ZHCpTWB_MgjL",
        "colab": {
          "base_uri": "https://localhost:8080/"
        },
        "outputId": "98edf220-af81-4d25-cd36-c31a5808ecb8"
      },
      "source": [
        "ev = model_b.evaluate(X_test_n, y_test)"
      ],
      "execution_count": null,
      "outputs": [
        {
          "output_type": "stream",
          "text": [
            "313/313 [==============================] - 1s 4ms/step - loss: 0.4896 - accuracy: 0.8224\n"
          ],
          "name": "stdout"
        }
      ]
    },
    {
      "cell_type": "markdown",
      "metadata": {
        "id": "lbQW5pIQrR1x"
      },
      "source": [
        "**NOTA:** Sigue dando mejor el modelo b sin pooling. Le fui tocando algunas cosas pero no logro que se invierta. Seguramente me falta tocar algún hiperparámetro."
      ]
    }
  ]
}