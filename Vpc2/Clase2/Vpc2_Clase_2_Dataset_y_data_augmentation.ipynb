{
  "nbformat": 4,
  "nbformat_minor": 0,
  "metadata": {
    "kernelspec": {
      "display_name": "Python 3",
      "language": "python",
      "name": "python3"
    },
    "language_info": {
      "codemirror_mode": {
        "name": "ipython",
        "version": 3
      },
      "file_extension": ".py",
      "mimetype": "text/x-python",
      "name": "python",
      "nbconvert_exporter": "python",
      "pygments_lexer": "ipython3",
      "version": "3.7.6"
    },
    "colab": {
      "name": "Vpc2 - Clase 2 - Dataset_y_data_augmentation.ipynb",
      "provenance": [],
      "collapsed_sections": []
    },
    "accelerator": "TPU"
  },
  "cells": [
    {
      "cell_type": "markdown",
      "metadata": {
        "id": "gnz3-c4GTXm9"
      },
      "source": [
        "# Vamos a utilizar un dataset de perros y gatos para explorar técnicas de Data Augmentation"
      ]
    },
    {
      "cell_type": "code",
      "metadata": {
        "id": "AvXs-cneTXm-"
      },
      "source": [
        "import numpy as np\n",
        "import pandas as pd\n",
        "%matplotlib inline\n",
        "import matplotlib as mpl\n",
        "import matplotlib.pyplot as plt\n",
        "import os"
      ],
      "execution_count": null,
      "outputs": []
    },
    {
      "cell_type": "code",
      "metadata": {
        "id": "PHVTt9_UTXnC"
      },
      "source": [
        "import tensorflow as tf\n",
        "from tensorflow import keras"
      ],
      "execution_count": null,
      "outputs": []
    },
    {
      "cell_type": "markdown",
      "metadata": {
        "id": "Zk78JBqATXnG"
      },
      "source": [
        "### DATASET:"
      ]
    },
    {
      "cell_type": "markdown",
      "metadata": {
        "id": "PQ0QRvPATXnH"
      },
      "source": [
        "El Dataset contiene 4000 imágenes de gatos y perros (2000 gatos y 2000 perros). Vamos a usar 2000 imágenes para entrenar, 1000 para validación, 1000 para test."
      ]
    },
    {
      "cell_type": "code",
      "metadata": {
        "id": "E-DnI3CtwyaC",
        "colab": {
          "base_uri": "https://localhost:8080/"
        },
        "outputId": "3ebcacb1-69e8-4c5a-a006-422e7ef932c6"
      },
      "source": [
        "#subir el archivo perros_y_gatos.zip\n",
        "# está acá: https://drive.google.com/file/d/1WgbH_Xt421hNhD4gcfwsvtVsFheJKefm/view?usp=sharing\\\n",
        "!gdown --id 1WgbH_Xt421hNhD4gcfwsvtVsFheJKefm"
      ],
      "execution_count": null,
      "outputs": [
        {
          "output_type": "stream",
          "text": [
            "Downloading...\n",
            "From: https://drive.google.com/uc?id=1WgbH_Xt421hNhD4gcfwsvtVsFheJKefm\n",
            "To: /content/perros_y_gatos.zip\n",
            "90.8MB [00:01, 89.3MB/s]\n"
          ],
          "name": "stdout"
        }
      ]
    },
    {
      "cell_type": "code",
      "metadata": {
        "id": "VBhyd6J6wcjs"
      },
      "source": [
        "!unzip /content/perros_y_gatos.zip > /dev/null"
      ],
      "execution_count": null,
      "outputs": []
    },
    {
      "cell_type": "code",
      "metadata": {
        "id": "u9zISTEdxYyZ",
        "colab": {
          "base_uri": "https://localhost:8080/"
        },
        "outputId": "5cb926da-cc7a-485f-9fc9-9c5d2f28f23f"
      },
      "source": [
        "!ls"
      ],
      "execution_count": null,
      "outputs": [
        {
          "output_type": "stream",
          "text": [
            "perros_y_gatos.zip  sample_data  test  train  validation\n"
          ],
          "name": "stdout"
        }
      ]
    },
    {
      "cell_type": "code",
      "metadata": {
        "id": "BIYh_FdY0l8U",
        "colab": {
          "base_uri": "https://localhost:8080/"
        },
        "outputId": "c1a2c577-ee54-4682-cc19-355bf044a454"
      },
      "source": [
        "cd /content"
      ],
      "execution_count": null,
      "outputs": [
        {
          "output_type": "stream",
          "text": [
            "/content\n"
          ],
          "name": "stdout"
        }
      ]
    },
    {
      "cell_type": "code",
      "metadata": {
        "id": "tomzRUadTXnJ"
      },
      "source": [
        "train_dir = './train'\n",
        "validation_dir = './validation'\n",
        "test_dir = './test'"
      ],
      "execution_count": null,
      "outputs": []
    },
    {
      "cell_type": "markdown",
      "metadata": {
        "id": "KDrroygKTXnM"
      },
      "source": [
        "### Preprocesamiento de los datos"
      ]
    },
    {
      "cell_type": "markdown",
      "metadata": {
        "id": "assnLl85TXnN"
      },
      "source": [
        "* Leer las imágenes\n",
        "* Decodificar los JPEG en imágenes de píxeles RGB\n",
        "* Convertir estas imágenes en tensores de valores en punto flotante\n",
        "* Reescalar los valores de los píxeles al intervalo [0,1]\n"
      ]
    },
    {
      "cell_type": "code",
      "metadata": {
        "id": "HuOLXZOJTXnN"
      },
      "source": [
        "from tensorflow.keras.preprocessing.image import ImageDataGenerator"
      ],
      "execution_count": null,
      "outputs": []
    },
    {
      "cell_type": "markdown",
      "metadata": {
        "id": "_0bUApO-TXnR"
      },
      "source": [
        "Link : https://keras.io/preprocessing/image/"
      ]
    },
    {
      "cell_type": "code",
      "metadata": {
        "id": "-yyUlq53TXnS",
        "colab": {
          "base_uri": "https://localhost:8080/"
        },
        "outputId": "4b6e1af1-cd46-46a2-fe41-b5b601b115a5"
      },
      "source": [
        "# Así generamos batches desde los directorios de imágenes\n",
        "train_datagen = ImageDataGenerator(rescale=1./255)\n",
        "test_datagen = ImageDataGenerator(rescale=1./255)\n",
        "\n",
        "train_generator = train_datagen.flow_from_directory(\n",
        "        train_dir,\n",
        "        target_size=(150, 150),\n",
        "        batch_size=20,\n",
        "        class_mode='binary')\n",
        "\n",
        "validation_generator = test_datagen.flow_from_directory(\n",
        "        validation_dir,\n",
        "        target_size=(150, 150),\n",
        "        batch_size=20,\n",
        "        class_mode='binary')"
      ],
      "execution_count": null,
      "outputs": [
        {
          "output_type": "stream",
          "text": [
            "Found 2000 images belonging to 2 classes.\n",
            "Found 1000 images belonging to 2 classes.\n"
          ],
          "name": "stdout"
        }
      ]
    },
    {
      "cell_type": "code",
      "metadata": {
        "id": "a3wT7I-yTXnX"
      },
      "source": [
        "# i = 1\n",
        "# for batch in train_datagen.flow(train_generator, batch_size=1,\n",
        "#                           save_to_dir='.', save_prefix='img', save_format='jpeg'):\n",
        "#     i += 1\n",
        "#     if i > 6:\n",
        "#         break\n",
        "\n",
        "# import matplotlib.image as mpimg\n",
        "# import glob\n",
        "# import os\n",
        "\n",
        "# files =glob.glob(\"./*.jpeg\")\n",
        "# plt.figure(figsize=(10,5))\n",
        "# i = 1\n",
        "# for f in files:\n",
        "#     if i > 6:\n",
        "#         break \n",
        "#     plt.subplot(2,3,i)\n",
        "#     image = mpimg.imread(f)\n",
        "#     plt.imshow(image)\n",
        "#     i+=1\n",
        "#     os.remove(f)\n",
        "    \n",
        "# plt.show()"
      ],
      "execution_count": null,
      "outputs": []
    },
    {
      "cell_type": "code",
      "metadata": {
        "id": "jM2FYJIEyEEA",
        "colab": {
          "base_uri": "https://localhost:8080/"
        },
        "outputId": "bbd5f99e-0d4a-4b85-f11d-d9037943277a"
      },
      "source": [
        "!ls"
      ],
      "execution_count": null,
      "outputs": [
        {
          "output_type": "stream",
          "text": [
            "perros_y_gatos.zip  sample_data  test  train  validation\n"
          ],
          "name": "stdout"
        }
      ]
    },
    {
      "cell_type": "code",
      "metadata": {
        "id": "27lf0gY6TXnb"
      },
      "source": [
        "from tensorflow.keras import layers\n",
        "from tensorflow.keras import models"
      ],
      "execution_count": null,
      "outputs": []
    },
    {
      "cell_type": "code",
      "metadata": {
        "id": "4dfXCWT9TXne"
      },
      "source": [
        "model = models.Sequential()\n",
        "\n",
        "#### COMPLETAR #####\n",
        "# agregar las siguientes capas:\n",
        "# convolucional f=(3,3), # de filtros: 32, activación relu\n",
        "model.add(layers.Conv2D(32, (3, 3), activation='relu', input_shape=(150, 150, 3)))\n",
        "# max pooling f=2, s=2\n",
        "model.add(layers.MaxPooling2D((2,2)))\n",
        "# convolucional f=(3,3), # de filtros: 64, activación relu\n",
        "model.add(layers.Conv2D(64, (3, 3), activation='relu'))\n",
        "# max pooling f=2, s=2\n",
        "model.add(layers.MaxPooling2D((2,2)))\n",
        "# convolucional f=(3,3), # de filtros: 128, activación relu\n",
        "model.add(layers.Conv2D(128, (3, 3), activation='relu'))\n",
        "# max pooling f=2, s=2\n",
        "model.add(layers.MaxPooling2D((2,2)))\n",
        "# convolucional f=(3,3), # de filtros: 128, activación relu\n",
        "model.add(layers.Conv2D(128, (3, 3), activation='relu'))\n",
        "# max pooling f=2, s=2\n",
        "model.add(layers.MaxPooling2D((2,2)))\n",
        "# capa flatten\n",
        "model.add(layers.Flatten())\n",
        "# capa densa de 512 elementos activación relu\n",
        "model.add(layers.Dense(512, activation='relu'))\n",
        "# capa densa con un output de 1 elemento con activación sigmoidea\n",
        "model.add(layers.Dense(1, activation='sigmoid'))\n"
      ],
      "execution_count": null,
      "outputs": []
    },
    {
      "cell_type": "code",
      "metadata": {
        "id": "0cp9q94YTXng",
        "colab": {
          "base_uri": "https://localhost:8080/"
        },
        "outputId": "7f8d94ea-592a-491b-a29e-789343dd8b39"
      },
      "source": [
        "model.summary()"
      ],
      "execution_count": null,
      "outputs": [
        {
          "output_type": "stream",
          "text": [
            "Model: \"sequential\"\n",
            "_________________________________________________________________\n",
            "Layer (type)                 Output Shape              Param #   \n",
            "=================================================================\n",
            "conv2d (Conv2D)              (None, 148, 148, 32)      896       \n",
            "_________________________________________________________________\n",
            "max_pooling2d (MaxPooling2D) (None, 74, 74, 32)        0         \n",
            "_________________________________________________________________\n",
            "conv2d_1 (Conv2D)            (None, 72, 72, 64)        18496     \n",
            "_________________________________________________________________\n",
            "max_pooling2d_1 (MaxPooling2 (None, 36, 36, 64)        0         \n",
            "_________________________________________________________________\n",
            "conv2d_2 (Conv2D)            (None, 34, 34, 128)       73856     \n",
            "_________________________________________________________________\n",
            "max_pooling2d_2 (MaxPooling2 (None, 17, 17, 128)       0         \n",
            "_________________________________________________________________\n",
            "conv2d_3 (Conv2D)            (None, 15, 15, 128)       147584    \n",
            "_________________________________________________________________\n",
            "max_pooling2d_3 (MaxPooling2 (None, 7, 7, 128)         0         \n",
            "_________________________________________________________________\n",
            "flatten (Flatten)            (None, 6272)              0         \n",
            "_________________________________________________________________\n",
            "dense (Dense)                (None, 512)               3211776   \n",
            "_________________________________________________________________\n",
            "dense_1 (Dense)              (None, 1)                 513       \n",
            "=================================================================\n",
            "Total params: 3,453,121\n",
            "Trainable params: 3,453,121\n",
            "Non-trainable params: 0\n",
            "_________________________________________________________________\n"
          ],
          "name": "stdout"
        }
      ]
    },
    {
      "cell_type": "code",
      "metadata": {
        "id": "__ppSmEsTXnj"
      },
      "source": [
        "from tensorflow.keras import optimizers\n",
        "\n",
        "# compilar el modelo con binary_crossentropy y optimizador RMSprop con\n",
        "# learning rate 1e-4, la métrica a usar es la accuracy (acc)\n",
        "\n",
        "model.compile(loss='binary_crossentropy',\n",
        "              optimizer=optimizers.RMSprop(lr=1e-4),\n",
        "              metrics=['acc'])"
      ],
      "execution_count": null,
      "outputs": []
    },
    {
      "cell_type": "code",
      "metadata": {
        "id": "VCXq57TfTXnn",
        "colab": {
          "base_uri": "https://localhost:8080/"
        },
        "outputId": "d70ca283-f70c-474d-e5df-f86407919362"
      },
      "source": [
        "# utilizar model.fit_generator para entrenar\n",
        "history = model.fit_generator(\n",
        "      train_generator,\n",
        "      steps_per_epoch=100,\n",
        "      epochs=5,\n",
        "      validation_data=validation_generator,\n",
        "      validation_steps=50)"
      ],
      "execution_count": null,
      "outputs": [
        {
          "output_type": "stream",
          "text": [
            "Epoch 1/5\n",
            "100/100 [==============================] - 124s 1s/step - loss: 0.6935 - acc: 0.5055 - val_loss: 0.6833 - val_acc: 0.5400\n",
            "Epoch 2/5\n",
            "100/100 [==============================] - 124s 1s/step - loss: 0.6761 - acc: 0.5730 - val_loss: 0.6848 - val_acc: 0.5550\n",
            "Epoch 3/5\n",
            "100/100 [==============================] - 120s 1s/step - loss: 0.6579 - acc: 0.6130 - val_loss: 0.6521 - val_acc: 0.6300\n",
            "Epoch 4/5\n",
            "100/100 [==============================] - 119s 1s/step - loss: 0.6391 - acc: 0.6330 - val_loss: 0.6459 - val_acc: 0.6160\n",
            "Epoch 5/5\n",
            "100/100 [==============================] - 121s 1s/step - loss: 0.6270 - acc: 0.6535 - val_loss: 0.6369 - val_acc: 0.6360\n"
          ],
          "name": "stdout"
        }
      ]
    },
    {
      "cell_type": "code",
      "metadata": {
        "id": "Cl1_o5PlTXnq",
        "colab": {
          "base_uri": "https://localhost:8080/",
          "height": 324
        },
        "outputId": "552a6a3a-0542-445f-8769-30080d3a2c91"
      },
      "source": [
        "pd.DataFrame(history.history).plot(figsize=(8, 5))\n",
        "plt.grid(True)\n",
        "plt.gca().set_ylim(0, 1)\n",
        "plt.show()"
      ],
      "execution_count": null,
      "outputs": [
        {
          "output_type": "display_data",
          "data": {
            "image/png": "[encoded data removed]",
            "text/plain": [
              "<Figure size 576x360 with 1 Axes>"
            ]
          },
          "metadata": {
            "tags": [],
            "needs_background": "light"
          }
        }
      ]
    },
    {
      "cell_type": "code",
      "metadata": {
        "id": "wBcVvX-HTXns"
      },
      "source": [
        "from tensorflow.keras import backend as K \n",
        "\n",
        "K.clear_session()\n",
        "del model"
      ],
      "execution_count": null,
      "outputs": []
    },
    {
      "cell_type": "markdown",
      "metadata": {
        "id": "0lNZqKvXTXnv"
      },
      "source": [
        "### DATA AUGMENTATION"
      ]
    },
    {
      "cell_type": "markdown",
      "metadata": {
        "id": "O4YwS2n2TXnw"
      },
      "source": [
        "Distorsión, Rotación, Crop, Flip horizontal: \n",
        "![image.png](attachment:image.png)"
      ]
    },
    {
      "cell_type": "markdown",
      "metadata": {
        "id": "idlLIwPuTXnw"
      },
      "source": [
        "Vamos a distorsionar (estirando y escalando), rotar las imágenes, invertirlas horizontalmente, hacer zoom en una región, esto va a ser aleatorio dentro de un cierto rango, utilizar ImageDataGenerator con parámetros para que esto ocurra.\n",
        "\n",
        "https://keras.io/api/preprocessing/image/\n",
        "\n",
        "https://github.com/keras-team/keras-preprocessing/blob/master/keras_preprocessing/image/image_data_generator.py\n",
        "\n",
        "https://github.com/keras-team/keras-preprocessing/blob/master/keras_preprocessing/image/affine_transformations.py\n",
        "\n",
        "usar:\n",
        "\n",
        "- rotation_range -> rango aleatorio de angulo de rotacions\n",
        "- width_shift_range -> rango aleatorio de desplazamiento en x expresado como proporcion de la imagen [0,1]\n",
        "- height_shift_range -> rango aleatorio de desplazamiento en x expresado como proporcion de la imagen [0,1]\n",
        "- shear_range -> rango aleatorio de 'shear' o cillamiento https://en.wikipedia.org/wiki/Shear_mapping [0,1]\n",
        "- zoom_range -> rango aleatorio de zoom de la imagen [0,1]\n",
        "- horizontal_flip -> boolean (si se flipea aleatoriamente la imagen en la dirección horizontal)"
      ]
    },
    {
      "cell_type": "code",
      "metadata": {
        "id": "_4AfTtUYTXnx",
        "colab": {
          "base_uri": "https://localhost:8080/"
        },
        "outputId": "426ec4cb-f93b-4623-adc3-3a7e09f67ba0"
      },
      "source": [
        "train_datagen = ImageDataGenerator(\n",
        "    rescale=1./255,\n",
        "    rotation_range = 0.3,\n",
        "    width_shift_range = 0.4,\n",
        "    height_shift_range = 0.4,\n",
        "    shear_range=0.4,\n",
        "    zoom_range=0.3,\n",
        "    horizontal_flip=True)\n",
        "\n",
        "test_datagen = ImageDataGenerator(rescale=1./255,\n",
        "                                  rotation_range = 0.2,\n",
        "                                  width_shift_range = 0.2,\n",
        "                                  height_shift_range = 0.2,\n",
        "                                  shear_range=0.2,\n",
        "                                  zoom_range=0.2,\n",
        "                                  horizontal_flip=True)\n",
        "\n",
        "train_generator = train_datagen.flow_from_directory(\n",
        "        train_dir,\n",
        "        target_size=(150, 150),\n",
        "        batch_size=20,\n",
        "        class_mode='binary')\n",
        "\n",
        "validation_generator = test_datagen.flow_from_directory(\n",
        "        validation_dir,\n",
        "        target_size=(150, 150),\n",
        "        batch_size=20,\n",
        "        class_mode='binary')\n"
      ],
      "execution_count": null,
      "outputs": [
        {
          "output_type": "stream",
          "text": [
            "Found 2000 images belonging to 2 classes.\n",
            "Found 1000 images belonging to 2 classes.\n"
          ],
          "name": "stdout"
        }
      ]
    },
    {
      "cell_type": "markdown",
      "metadata": {
        "id": "tyBxlQH-TXnz"
      },
      "source": [
        "### Veamos algunas imágenes"
      ]
    },
    {
      "cell_type": "code",
      "metadata": {
        "id": "Gy6UlyMqTXnz"
      },
      "source": [
        " #i = 1\n",
        " #for batch in train_datagen.flow(train_generator, batch_size=1,\n",
        " #                          save_to_dir='.', save_prefix='img', save_format='jpeg'):\n",
        " #    i += 1\n",
        " #    if i > 6:\n",
        " #        break\n",
        "\n",
        " #import matplotlib.image as mpimg\n",
        " #import glob\n",
        " #import os\n",
        "\n",
        " #files =glob.glob(\".\\*.jpeg\")\n",
        " #plt.figure(figsize=(10,5))\n",
        " #i = 1\n",
        " #for f in files:\n",
        " #    if i > 6:\n",
        " #        break \n",
        " #    plt.subplot(2,3,i)\n",
        " #    image = mpimg.imread(f)\n",
        " #    plt.imshow(image)\n",
        " #    i+=1\n",
        " #    os.remove(f)\n",
        "    \n",
        " #plt.show()"
      ],
      "execution_count": null,
      "outputs": []
    },
    {
      "cell_type": "code",
      "metadata": {
        "id": "7EIKRxpHTXn2"
      },
      "source": [
        "model = models.Sequential()\n",
        "\n",
        "# agregar las siguientes capas:\n",
        "# convolucional f=(3,3), # de filtros: 32, activación relu\n",
        "model.add(layers.Conv2D(32, (3, 3), activation='relu', input_shape=(150, 150, 3)))\n",
        "# max pooling f=2, s=2\n",
        "model.add(layers.MaxPooling2D((2,2)))\n",
        "# convolucional f=(3,3), # de filtros: 64, activación relu\n",
        "model.add(layers.Conv2D(64, (3, 3), activation='relu'))\n",
        "# max pooling f=2, s=2\n",
        "model.add(layers.MaxPooling2D((2,2)))\n",
        "# convolucional f=(3,3), # de filtros: 128, activación relu\n",
        "model.add(layers.Conv2D(128, (3, 3), activation='relu'))\n",
        "# max pooling f=2, s=2\n",
        "model.add(layers.MaxPooling2D((2,2)))\n",
        "# convolucional f=(3,3), # de filtros: 128, activación relu\n",
        "model.add(layers.Conv2D(128, (3, 3), activation='relu'))\n",
        "# max pooling f=2, s=2\n",
        "model.add(layers.MaxPooling2D((2,2)))\n",
        "# capa flatten\n",
        "model.add(layers.Flatten())\n",
        "# capa densa de 512 elementos activación relu\n",
        "model.add(layers.Dense(512, activation='relu'))\n",
        "# capa densa con un output de 1 elemento con activación sigmoidea\n",
        "model.add(layers.Dense(1, activation='sigmoid'))\n",
        "\n",
        "\n",
        "model.compile(loss='binary_crossentropy',\n",
        "              optimizer=optimizers.RMSprop(lr=1e-4),\n",
        "              metrics=['acc'])"
      ],
      "execution_count": null,
      "outputs": []
    },
    {
      "cell_type": "code",
      "metadata": {
        "id": "zw0xmIUuTXn4",
        "colab": {
          "base_uri": "https://localhost:8080/"
        },
        "outputId": "d78cdf21-f5b9-43a2-8695-79fb6d26ca9e"
      },
      "source": [
        "history = model.fit_generator(\n",
        "      train_generator,\n",
        "      steps_per_epoch=100,\n",
        "      epochs=5,\n",
        "      validation_data=validation_generator,\n",
        "      validation_steps=50)"
      ],
      "execution_count": null,
      "outputs": [
        {
          "output_type": "stream",
          "text": [
            "Epoch 1/5\n",
            "100/100 [==============================] - 118s 1s/step - loss: 0.6932 - acc: 0.5085 - val_loss: 0.6862 - val_acc: 0.5630\n",
            "Epoch 2/5\n",
            "100/100 [==============================] - 117s 1s/step - loss: 0.6803 - acc: 0.5410 - val_loss: 0.6717 - val_acc: 0.5650\n",
            "Epoch 3/5\n",
            "100/100 [==============================] - 115s 1s/step - loss: 0.6688 - acc: 0.5805 - val_loss: 0.6610 - val_acc: 0.5710\n",
            "Epoch 4/5\n",
            "100/100 [==============================] - 119s 1s/step - loss: 0.6574 - acc: 0.5795 - val_loss: 0.6476 - val_acc: 0.5930\n",
            "Epoch 5/5\n",
            "100/100 [==============================] - 116s 1s/step - loss: 0.6575 - acc: 0.6015 - val_loss: 0.6483 - val_acc: 0.6180\n"
          ],
          "name": "stdout"
        }
      ]
    },
    {
      "cell_type": "code",
      "metadata": {
        "id": "jn93iMM7TXn8",
        "colab": {
          "base_uri": "https://localhost:8080/",
          "height": 324
        },
        "outputId": "6a8dc3cb-bb96-4249-b7ee-7da3c3f21a97"
      },
      "source": [
        "pd.DataFrame(history.history).plot(figsize=(8, 5))\n",
        "plt.grid(True)\n",
        "plt.gca().set_ylim(0, 1)\n",
        "plt.show()"
      ],
      "execution_count": null,
      "outputs": [
        {
          "output_type": "display_data",
          "data": {
            "image/png": "[encoded data removed]",
            "text/plain": [
              "<Figure size 576x360 with 1 Axes>"
            ]
          },
          "metadata": {
            "tags": [],
            "needs_background": "light"
          }
        }
      ]
    },
    {
      "cell_type": "code",
      "metadata": {
        "id": "7fD_0v5BTXn_"
      },
      "source": [
        "keras.backend.clear_session\n",
        "del model"
      ],
      "execution_count": null,
      "outputs": []
    },
    {
      "cell_type": "markdown",
      "metadata": {
        "id": "LN6Wfk1e2X1R"
      },
      "source": [
        "Mejora con data augmentation....aunque no tanto. Aunque creo que hay margen para seguir entrenando un poco."
      ]
    },
    {
      "cell_type": "code",
      "metadata": {
        "id": "GBVNpmnP2jVA"
      },
      "source": [
        ""
      ],
      "execution_count": null,
      "outputs": []
    }
  ]
}