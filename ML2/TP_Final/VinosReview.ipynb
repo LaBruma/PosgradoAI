{
 "cells": [
  {
   "cell_type": "markdown",
   "metadata": {},
   "source": [
    "# TP Final MLII\n",
    "\n",
    "Para el cierre de la materia Machine Learning II se solicitó la implementación de dos algoritmos vistos durante la materia sobre el mismo dataset con el que se trabajó en Machine Learning I.\n",
    "\n",
    "Vamos a partir del dataset ya procesado donde tenemos, para la cepa Cabernet Sauvignon, los datos de:\n",
    "- Puntaje\n",
    "- Puntaje binario (malo:0, bueno:1, cuyo umbral se había fijado en 88 pts)\n",
    "- Precio\n",
    "- Sommelier (one-hot-encoding)\n",
    "- País (one-hot-encoding)\n",
    "- Año\n",
    "\n",
    "Sobre este dataset vamos a implementar los siguientes algoritmos\n",
    "\n",
    "- Ajuste de hiperparámetros\n",
    "- Reducción de la dimensionalidad"
   ]
  },
  {
   "cell_type": "code",
   "execution_count": 1,
   "metadata": {},
   "outputs": [],
   "source": [
    "import pandas as pd\n",
    "\n",
    "# Levantamos el archivo\n",
    "final_ds = pd.read_csv('final_ds.csv')"
   ]
  },
  {
   "cell_type": "code",
   "execution_count": 2,
   "metadata": {},
   "outputs": [
    {
     "data": {
      "text/html": [
       "<div>\n",
       "<style scoped>\n",
       "    .dataframe tbody tr th:only-of-type {\n",
       "        vertical-align: middle;\n",
       "    }\n",
       "\n",
       "    .dataframe tbody tr th {\n",
       "        vertical-align: top;\n",
       "    }\n",
       "\n",
       "    .dataframe thead th {\n",
       "        text-align: right;\n",
       "    }\n",
       "</style>\n",
       "<table border=\"1\" class=\"dataframe\">\n",
       "  <thead>\n",
       "    <tr style=\"text-align: right;\">\n",
       "      <th></th>\n",
       "      <th>Unnamed: 0</th>\n",
       "      <th>country_Argentina</th>\n",
       "      <th>country_Australia</th>\n",
       "      <th>country_Bulgaria</th>\n",
       "      <th>country_Chile</th>\n",
       "      <th>country_France</th>\n",
       "      <th>country_Israel</th>\n",
       "      <th>country_Italy</th>\n",
       "      <th>country_Portugal</th>\n",
       "      <th>country_Romania</th>\n",
       "      <th>...</th>\n",
       "      <th>taster_Paul Gregutt</th>\n",
       "      <th>taster_Roger Voss</th>\n",
       "      <th>taster_Sean P. Sullivan</th>\n",
       "      <th>taster_Susan Kostrzewa</th>\n",
       "      <th>taster_Unknown</th>\n",
       "      <th>taster_Virginie Boone</th>\n",
       "      <th>year</th>\n",
       "      <th>price</th>\n",
       "      <th>binary_points</th>\n",
       "      <th>points</th>\n",
       "    </tr>\n",
       "  </thead>\n",
       "  <tbody>\n",
       "    <tr>\n",
       "      <th>0</th>\n",
       "      <td>9</td>\n",
       "      <td>0</td>\n",
       "      <td>0</td>\n",
       "      <td>0</td>\n",
       "      <td>0</td>\n",
       "      <td>0</td>\n",
       "      <td>0</td>\n",
       "      <td>0</td>\n",
       "      <td>0</td>\n",
       "      <td>0</td>\n",
       "      <td>...</td>\n",
       "      <td>0</td>\n",
       "      <td>0</td>\n",
       "      <td>0</td>\n",
       "      <td>0</td>\n",
       "      <td>0</td>\n",
       "      <td>1</td>\n",
       "      <td>2011</td>\n",
       "      <td>19.0</td>\n",
       "      <td>0</td>\n",
       "      <td>87</td>\n",
       "    </tr>\n",
       "    <tr>\n",
       "      <th>1</th>\n",
       "      <td>11</td>\n",
       "      <td>0</td>\n",
       "      <td>0</td>\n",
       "      <td>0</td>\n",
       "      <td>0</td>\n",
       "      <td>0</td>\n",
       "      <td>0</td>\n",
       "      <td>0</td>\n",
       "      <td>0</td>\n",
       "      <td>0</td>\n",
       "      <td>...</td>\n",
       "      <td>0</td>\n",
       "      <td>0</td>\n",
       "      <td>0</td>\n",
       "      <td>0</td>\n",
       "      <td>0</td>\n",
       "      <td>1</td>\n",
       "      <td>2012</td>\n",
       "      <td>34.0</td>\n",
       "      <td>0</td>\n",
       "      <td>87</td>\n",
       "    </tr>\n",
       "    <tr>\n",
       "      <th>2</th>\n",
       "      <td>32</td>\n",
       "      <td>0</td>\n",
       "      <td>0</td>\n",
       "      <td>0</td>\n",
       "      <td>0</td>\n",
       "      <td>0</td>\n",
       "      <td>0</td>\n",
       "      <td>1</td>\n",
       "      <td>0</td>\n",
       "      <td>0</td>\n",
       "      <td>...</td>\n",
       "      <td>0</td>\n",
       "      <td>0</td>\n",
       "      <td>0</td>\n",
       "      <td>0</td>\n",
       "      <td>1</td>\n",
       "      <td>0</td>\n",
       "      <td>2010</td>\n",
       "      <td>21.0</td>\n",
       "      <td>0</td>\n",
       "      <td>86</td>\n",
       "    </tr>\n",
       "    <tr>\n",
       "      <th>3</th>\n",
       "      <td>53</td>\n",
       "      <td>0</td>\n",
       "      <td>0</td>\n",
       "      <td>0</td>\n",
       "      <td>0</td>\n",
       "      <td>0</td>\n",
       "      <td>0</td>\n",
       "      <td>0</td>\n",
       "      <td>0</td>\n",
       "      <td>0</td>\n",
       "      <td>...</td>\n",
       "      <td>0</td>\n",
       "      <td>0</td>\n",
       "      <td>0</td>\n",
       "      <td>0</td>\n",
       "      <td>0</td>\n",
       "      <td>1</td>\n",
       "      <td>2013</td>\n",
       "      <td>100.0</td>\n",
       "      <td>0</td>\n",
       "      <td>86</td>\n",
       "    </tr>\n",
       "    <tr>\n",
       "      <th>4</th>\n",
       "      <td>64</td>\n",
       "      <td>0</td>\n",
       "      <td>0</td>\n",
       "      <td>0</td>\n",
       "      <td>0</td>\n",
       "      <td>0</td>\n",
       "      <td>0</td>\n",
       "      <td>0</td>\n",
       "      <td>0</td>\n",
       "      <td>0</td>\n",
       "      <td>...</td>\n",
       "      <td>0</td>\n",
       "      <td>0</td>\n",
       "      <td>0</td>\n",
       "      <td>0</td>\n",
       "      <td>0</td>\n",
       "      <td>1</td>\n",
       "      <td>2013</td>\n",
       "      <td>40.0</td>\n",
       "      <td>0</td>\n",
       "      <td>86</td>\n",
       "    </tr>\n",
       "  </tbody>\n",
       "</table>\n",
       "<p>5 rows × 32 columns</p>\n",
       "</div>"
      ],
      "text/plain": [
       "   Unnamed: 0  country_Argentina  country_Australia  country_Bulgaria  \\\n",
       "0           9                  0                  0                 0   \n",
       "1          11                  0                  0                 0   \n",
       "2          32                  0                  0                 0   \n",
       "3          53                  0                  0                 0   \n",
       "4          64                  0                  0                 0   \n",
       "\n",
       "   country_Chile  country_France  country_Israel  country_Italy  \\\n",
       "0              0               0               0              0   \n",
       "1              0               0               0              0   \n",
       "2              0               0               0              1   \n",
       "3              0               0               0              0   \n",
       "4              0               0               0              0   \n",
       "\n",
       "   country_Portugal  country_Romania  ...  taster_Paul Gregutt  \\\n",
       "0                 0                0  ...                    0   \n",
       "1                 0                0  ...                    0   \n",
       "2                 0                0  ...                    0   \n",
       "3                 0                0  ...                    0   \n",
       "4                 0                0  ...                    0   \n",
       "\n",
       "   taster_Roger Voss  taster_Sean P. Sullivan  taster_Susan Kostrzewa  \\\n",
       "0                  0                        0                       0   \n",
       "1                  0                        0                       0   \n",
       "2                  0                        0                       0   \n",
       "3                  0                        0                       0   \n",
       "4                  0                        0                       0   \n",
       "\n",
       "   taster_Unknown  taster_Virginie Boone  year  price  binary_points  points  \n",
       "0               0                      1  2011   19.0              0      87  \n",
       "1               0                      1  2012   34.0              0      87  \n",
       "2               1                      0  2010   21.0              0      86  \n",
       "3               0                      1  2013  100.0              0      86  \n",
       "4               0                      1  2013   40.0              0      86  \n",
       "\n",
       "[5 rows x 32 columns]"
      ]
     },
     "execution_count": 2,
     "metadata": {},
     "output_type": "execute_result"
    }
   ],
   "source": [
    "final_ds.head()"
   ]
  },
  {
   "cell_type": "markdown",
   "metadata": {},
   "source": [
    "### Separación y normalización de datos"
   ]
  },
  {
   "cell_type": "code",
   "execution_count": 3,
   "metadata": {},
   "outputs": [],
   "source": [
    "# Seguiremos utilizando como salida va a ser el puntaje binario\n",
    "#--------------------------------------------------------------\n",
    "y = final_ds['binary_points']"
   ]
  },
  {
   "cell_type": "code",
   "execution_count": 4,
   "metadata": {},
   "outputs": [],
   "source": [
    "# Para los X solo tengo que descartamos las salidas relacionadas con puntaje (la binaria y la otra)\n",
    "#--------------------------------------------------------------------------------------------------\n",
    "X = final_ds.drop(['binary_points','points'], axis=1)"
   ]
  },
  {
   "cell_type": "code",
   "execution_count": 5,
   "metadata": {},
   "outputs": [],
   "source": [
    "import numpy as np\n",
    "\n",
    "# 7. Hacemos un split en training (70%), validation (20%) y testing (10%) \n",
    "#------------------------------------------------------------------------\n",
    "\n",
    "# Armamos el vector de barajado\n",
    "n_samples = X.shape[0]\n",
    "indexes = np.random.permutation(np.arange(0, n_samples))\n",
    "\n",
    "# Obtenemos los índices del \"split\" de datos: 80 - 20\n",
    "train_idx = indexes[0:int(0.8*n_samples)]\n",
    "test_idx = indexes[int(0.8*n_samples): int(n_samples)]\n",
    "\n",
    "# Chequeamos que anduvo bien\n",
    "assert n_samples == train_idx.size + test_idx.size\n",
    "\n",
    "# Armamos los sets de entrenamiento...\n",
    "x_train = X.iloc[train_idx,:]\n",
    "y_train = y.iloc[train_idx].to_numpy()\n",
    "\n",
    "# ...y test\n",
    "x_test = X.iloc[test_idx, :]\n",
    "y_test = y.iloc[test_idx].to_numpy()"
   ]
  },
  {
   "cell_type": "markdown",
   "metadata": {},
   "source": [
    "### Datos previos: TPF-ML1\n",
    "En el TPF-ML1 habíamos probado un modelo Random Forest que nos había dado el siguiente resultado:"
   ]
  },
  {
   "cell_type": "code",
   "execution_count": 6,
   "metadata": {},
   "outputs": [
    {
     "name": "stdout",
     "output_type": "stream",
     "text": [
      "AUC:  0.7325344525866784\n",
      "Confusion Matrix: \n",
      " [[729 255]\n",
      " [246 646]]\n",
      "Accuracy Test :  73.29424307036247\n"
     ]
    }
   ],
   "source": [
    "# Corremos un modelo de random forest\n",
    "from sklearn.ensemble import RandomForestClassifier\n",
    "from sklearn import metrics\n",
    "\n",
    "# Vamos primero con la parametrización por defecto (notamos que no tiene sentido agregar mucho más de 10 árboles)\n",
    "rf_model = RandomForestClassifier(n_estimators=10, max_depth=None, random_state=100)\n",
    "rf_model.fit(x_train, y_train)\n",
    "\n",
    "y_predict = rf_model.predict(x_test)\n",
    "fpr, tpr, thresholds = metrics.roc_curve(y_test, y_predict)\n",
    "\n",
    "print(\"AUC: \", metrics.auc(fpr, tpr))\n",
    "print(\"Confusion Matrix: \\n\", metrics.confusion_matrix(y_test, y_predict))\n",
    "print (\"Accuracy Test : \", metrics.accuracy_score(y_test,y_predict)*100)"
   ]
  },
  {
   "cell_type": "markdown",
   "metadata": {},
   "source": [
    "__NOTA:__ Este no fue el mejor resultado (después se lo tuneó un poco a mano) pero mejor, así probamos el hyperparameter tunign!!!"
   ]
  },
  {
   "cell_type": "markdown",
   "metadata": {},
   "source": [
    "## 1- Ajuste de hiperparámetros"
   ]
  },
  {
   "cell_type": "markdown",
   "metadata": {},
   "source": [
    "### GridSearch\n",
    "Este método explora el espacio de parámetros armando una grilla (cuadrícula) de parámetros donde todas las combinaciones posibles son testeadas. "
   ]
  },
  {
   "cell_type": "code",
   "execution_count": 39,
   "metadata": {},
   "outputs": [
    {
     "name": "stdout",
     "output_type": "stream",
     "text": [
      "Fitting 4 folds for each of 640 candidates, totalling 2560 fits\n"
     ]
    },
    {
     "name": "stderr",
     "output_type": "stream",
     "text": [
      "[Parallel(n_jobs=-1)]: Using backend LokyBackend with 4 concurrent workers.\n",
      "[Parallel(n_jobs=-1)]: Done  10 tasks      | elapsed:    5.9s\n",
      "[Parallel(n_jobs=-1)]: Done  64 tasks      | elapsed:   58.5s\n",
      "[Parallel(n_jobs=-1)]: Done 154 tasks      | elapsed:  2.7min\n",
      "[Parallel(n_jobs=-1)]: Done 280 tasks      | elapsed:  5.1min\n",
      "[Parallel(n_jobs=-1)]: Done 442 tasks      | elapsed:  7.8min\n",
      "[Parallel(n_jobs=-1)]: Done 640 tasks      | elapsed: 15.7min\n",
      "[Parallel(n_jobs=-1)]: Done 874 tasks      | elapsed: 24.3min\n",
      "[Parallel(n_jobs=-1)]: Done 1144 tasks      | elapsed: 34.5min\n",
      "[Parallel(n_jobs=-1)]: Done 1450 tasks      | elapsed: 50.8min\n",
      "[Parallel(n_jobs=-1)]: Done 1792 tasks      | elapsed: 56.6min\n",
      "[Parallel(n_jobs=-1)]: Done 2170 tasks      | elapsed: 68.8min\n",
      "[Parallel(n_jobs=-1)]: Done 2560 out of 2560 | elapsed: 86.7min finished\n"
     ]
    },
    {
     "data": {
      "text/plain": [
       "GridSearchCV(cv=4, estimator=RandomForestClassifier(), n_jobs=-1,\n",
       "             param_grid={'criterion': ['entropy', 'gini'],\n",
       "                         'max_depth': [5, None],\n",
       "                         'max_features': ['auto', 'sqrt', 'log2', None],\n",
       "                         'min_samples_split': [5, 7, 10, 14],\n",
       "                         'n_estimators': [10, 103, 196, 290, 383, 476, 570, 663,\n",
       "                                          756, 850]},\n",
       "             verbose=5)"
      ]
     },
     "execution_count": 39,
     "metadata": {},
     "output_type": "execute_result"
    }
   ],
   "source": [
    "from sklearn.model_selection import GridSearchCV\n",
    "from sklearn.model_selection import cross_val_score\n",
    "\n",
    "# Creamos el diccionario sobre el que vamos a probar variantes\n",
    "#-------------------------------------------------------------\n",
    "grid_search = {'criterion':['entropy','gini'],\n",
    "                 'max_depth': list(np.linspace(5,20,1,dtype=int))+[None],\n",
    "                 'max_features':['auto','sqrt','log2',None],\n",
    "                 'min_samples_split':[5,7,10,14],\n",
    "                 'n_estimators': list(np.linspace(10,850,10,dtype=int))}\n",
    "\n",
    "# Creamos el modelo\n",
    "#------------------\n",
    "clf = RandomForestClassifier()\n",
    "\n",
    "model = GridSearchCV(estimator = clf, param_grid = grid_search, cv = 4, \n",
    "                     verbose = 5, n_jobs = -1)\n",
    "\n",
    "model.fit(x_train, y_train)"
   ]
  },
  {
   "cell_type": "code",
   "execution_count": 40,
   "metadata": {},
   "outputs": [
    {
     "name": "stdout",
     "output_type": "stream",
     "text": [
      "RandomForestClassifier(max_depth=5, max_features=None, min_samples_split=5,\n",
      "                       n_estimators=756)\n"
     ]
    }
   ],
   "source": [
    "# Veamos cómo nos quedó el modelo óptimo\n",
    "#---------------------------------------\n",
    "print(model.best_estimator_)"
   ]
  },
  {
   "cell_type": "code",
   "execution_count": 43,
   "metadata": {},
   "outputs": [
    {
     "data": {
      "text/html": [
       "<div>\n",
       "<style scoped>\n",
       "    .dataframe tbody tr th:only-of-type {\n",
       "        vertical-align: middle;\n",
       "    }\n",
       "\n",
       "    .dataframe tbody tr th {\n",
       "        vertical-align: top;\n",
       "    }\n",
       "\n",
       "    .dataframe thead th {\n",
       "        text-align: right;\n",
       "    }\n",
       "</style>\n",
       "<table border=\"1\" class=\"dataframe\">\n",
       "  <thead>\n",
       "    <tr style=\"text-align: right;\">\n",
       "      <th></th>\n",
       "      <th>mean_fit_time</th>\n",
       "      <th>std_fit_time</th>\n",
       "      <th>mean_score_time</th>\n",
       "      <th>std_score_time</th>\n",
       "      <th>param_criterion</th>\n",
       "      <th>param_max_depth</th>\n",
       "      <th>param_max_features</th>\n",
       "      <th>param_min_samples_split</th>\n",
       "      <th>param_n_estimators</th>\n",
       "      <th>params</th>\n",
       "      <th>split0_test_score</th>\n",
       "      <th>split1_test_score</th>\n",
       "      <th>split2_test_score</th>\n",
       "      <th>split3_test_score</th>\n",
       "      <th>mean_test_score</th>\n",
       "      <th>std_test_score</th>\n",
       "      <th>rank_test_score</th>\n",
       "    </tr>\n",
       "  </thead>\n",
       "  <tbody>\n",
       "    <tr>\n",
       "      <th>0</th>\n",
       "      <td>0.110573</td>\n",
       "      <td>0.030504</td>\n",
       "      <td>0.012008</td>\n",
       "      <td>0.001734</td>\n",
       "      <td>entropy</td>\n",
       "      <td>5</td>\n",
       "      <td>auto</td>\n",
       "      <td>5</td>\n",
       "      <td>10</td>\n",
       "      <td>{'criterion': 'entropy', 'max_depth': 5, 'max_...</td>\n",
       "      <td>0.728145</td>\n",
       "      <td>0.735075</td>\n",
       "      <td>0.771200</td>\n",
       "      <td>0.749333</td>\n",
       "      <td>0.745938</td>\n",
       "      <td>0.016464</td>\n",
       "      <td>247</td>\n",
       "    </tr>\n",
       "    <tr>\n",
       "      <th>1</th>\n",
       "      <td>1.270348</td>\n",
       "      <td>0.054638</td>\n",
       "      <td>0.056788</td>\n",
       "      <td>0.002588</td>\n",
       "      <td>entropy</td>\n",
       "      <td>5</td>\n",
       "      <td>auto</td>\n",
       "      <td>5</td>\n",
       "      <td>103</td>\n",
       "      <td>{'criterion': 'entropy', 'max_depth': 5, 'max_...</td>\n",
       "      <td>0.730810</td>\n",
       "      <td>0.744136</td>\n",
       "      <td>0.758400</td>\n",
       "      <td>0.738667</td>\n",
       "      <td>0.743003</td>\n",
       "      <td>0.010072</td>\n",
       "      <td>394</td>\n",
       "    </tr>\n",
       "    <tr>\n",
       "      <th>2</th>\n",
       "      <td>1.584808</td>\n",
       "      <td>0.034150</td>\n",
       "      <td>0.108072</td>\n",
       "      <td>0.010708</td>\n",
       "      <td>entropy</td>\n",
       "      <td>5</td>\n",
       "      <td>auto</td>\n",
       "      <td>5</td>\n",
       "      <td>196</td>\n",
       "      <td>{'criterion': 'entropy', 'max_depth': 5, 'max_...</td>\n",
       "      <td>0.731876</td>\n",
       "      <td>0.739339</td>\n",
       "      <td>0.758933</td>\n",
       "      <td>0.731200</td>\n",
       "      <td>0.740337</td>\n",
       "      <td>0.011201</td>\n",
       "      <td>586</td>\n",
       "    </tr>\n",
       "    <tr>\n",
       "      <th>3</th>\n",
       "      <td>2.692046</td>\n",
       "      <td>0.028360</td>\n",
       "      <td>0.230904</td>\n",
       "      <td>0.014525</td>\n",
       "      <td>entropy</td>\n",
       "      <td>5</td>\n",
       "      <td>auto</td>\n",
       "      <td>5</td>\n",
       "      <td>290</td>\n",
       "      <td>{'criterion': 'entropy', 'max_depth': 5, 'max_...</td>\n",
       "      <td>0.733475</td>\n",
       "      <td>0.742537</td>\n",
       "      <td>0.764800</td>\n",
       "      <td>0.733867</td>\n",
       "      <td>0.743670</td>\n",
       "      <td>0.012726</td>\n",
       "      <td>336</td>\n",
       "    </tr>\n",
       "    <tr>\n",
       "      <th>4</th>\n",
       "      <td>3.425786</td>\n",
       "      <td>0.036967</td>\n",
       "      <td>0.211140</td>\n",
       "      <td>0.021262</td>\n",
       "      <td>entropy</td>\n",
       "      <td>5</td>\n",
       "      <td>auto</td>\n",
       "      <td>5</td>\n",
       "      <td>383</td>\n",
       "      <td>{'criterion': 'entropy', 'max_depth': 5, 'max_...</td>\n",
       "      <td>0.732409</td>\n",
       "      <td>0.742004</td>\n",
       "      <td>0.762133</td>\n",
       "      <td>0.733333</td>\n",
       "      <td>0.742470</td>\n",
       "      <td>0.011954</td>\n",
       "      <td>448</td>\n",
       "    </tr>\n",
       "  </tbody>\n",
       "</table>\n",
       "</div>"
      ],
      "text/plain": [
       "   mean_fit_time  std_fit_time  mean_score_time  std_score_time  \\\n",
       "0       0.110573      0.030504         0.012008        0.001734   \n",
       "1       1.270348      0.054638         0.056788        0.002588   \n",
       "2       1.584808      0.034150         0.108072        0.010708   \n",
       "3       2.692046      0.028360         0.230904        0.014525   \n",
       "4       3.425786      0.036967         0.211140        0.021262   \n",
       "\n",
       "  param_criterion param_max_depth param_max_features param_min_samples_split  \\\n",
       "0         entropy               5               auto                       5   \n",
       "1         entropy               5               auto                       5   \n",
       "2         entropy               5               auto                       5   \n",
       "3         entropy               5               auto                       5   \n",
       "4         entropy               5               auto                       5   \n",
       "\n",
       "  param_n_estimators                                             params  \\\n",
       "0                 10  {'criterion': 'entropy', 'max_depth': 5, 'max_...   \n",
       "1                103  {'criterion': 'entropy', 'max_depth': 5, 'max_...   \n",
       "2                196  {'criterion': 'entropy', 'max_depth': 5, 'max_...   \n",
       "3                290  {'criterion': 'entropy', 'max_depth': 5, 'max_...   \n",
       "4                383  {'criterion': 'entropy', 'max_depth': 5, 'max_...   \n",
       "\n",
       "   split0_test_score  split1_test_score  split2_test_score  split3_test_score  \\\n",
       "0           0.728145           0.735075           0.771200           0.749333   \n",
       "1           0.730810           0.744136           0.758400           0.738667   \n",
       "2           0.731876           0.739339           0.758933           0.731200   \n",
       "3           0.733475           0.742537           0.764800           0.733867   \n",
       "4           0.732409           0.742004           0.762133           0.733333   \n",
       "\n",
       "   mean_test_score  std_test_score  rank_test_score  \n",
       "0         0.745938        0.016464              247  \n",
       "1         0.743003        0.010072              394  \n",
       "2         0.740337        0.011201              586  \n",
       "3         0.743670        0.012726              336  \n",
       "4         0.742470        0.011954              448  "
      ]
     },
     "execution_count": 43,
     "metadata": {},
     "output_type": "execute_result"
    }
   ],
   "source": [
    "# Convertimos los resultados en un dataset Pandas para visualizar mejor\n",
    "#----------------------------------------------------------------------\n",
    "scores_df = pd.DataFrame(model.cv_results_)\n",
    "scores_df.head()"
   ]
  },
  {
   "cell_type": "code",
   "execution_count": 44,
   "metadata": {},
   "outputs": [
    {
     "name": "stdout",
     "output_type": "stream",
     "text": [
      "AUC:  0.7480064285292126\n",
      "Confusion Matrix: \n",
      " [[674 268]\n",
      " [205 729]]\n",
      "Accuracy Test :  74.7867803837953\n"
     ]
    }
   ],
   "source": [
    "# Probemos a ver cómo anduvo la cosa\n",
    "#-----------------------------------\n",
    "y_predict = model.predict(x_test)\n",
    "fpr, tpr, thresholds = metrics.roc_curve(y_test, y_predict)\n",
    "\n",
    "print(\"AUC: \", metrics.auc(fpr, tpr))\n",
    "print(\"Confusion Matrix: \\n\", metrics.confusion_matrix(y_test, y_predict))\n",
    "print (\"Accuracy Test : \", metrics.accuracy_score(y_test,y_predict)*100)"
   ]
  },
  {
   "cell_type": "markdown",
   "metadata": {},
   "source": [
    "__Mini-conclusión:__ <br><br> Hubo una mejora!...aunque tampoco descollante. De un Accuracy Test de 0.72 pasamos a casi el 0.75. Pero el tiempo de búsqueda de estos parámetros fue bastante grande (1h 26m), debiendo tener que probar 640 posibles candidatos. La búsqueda de parámetros fue \"orientada\" según las pruebas que se fueron haciendo manualmente en el TP1 pero con un rango generoso de manera de ver si el valor óptimo no estaba más lejano en el espacio de parámetros."
   ]
  },
  {
   "cell_type": "markdown",
   "metadata": {},
   "source": [
    "### RandomSearch\n",
    "Explora el espacio de parámetros pero de manera más desordenada que Grid Search. A diferencia de GridSearch, no se prueban todos los valores de los parámetros, sino que se muestrea un número fijo de configuraciones de parámetros de las distribuciones especificadas. El número de ajustes de parámetros que se prueban viene dado por n_iter. De esta manera resulta en una búsqueda más eficiente de los parámetros óptimos."
   ]
  },
  {
   "cell_type": "code",
   "execution_count": 45,
   "metadata": {},
   "outputs": [
    {
     "name": "stdout",
     "output_type": "stream",
     "text": [
      "Fitting 4 folds for each of 80 candidates, totalling 320 fits\n"
     ]
    },
    {
     "name": "stderr",
     "output_type": "stream",
     "text": [
      "[Parallel(n_jobs=-1)]: Using backend LokyBackend with 4 concurrent workers.\n",
      "[Parallel(n_jobs=-1)]: Done  10 tasks      | elapsed:   13.8s\n",
      "[Parallel(n_jobs=-1)]: Done  64 tasks      | elapsed:  1.7min\n",
      "[Parallel(n_jobs=-1)]: Done 154 tasks      | elapsed:  5.5min\n",
      "[Parallel(n_jobs=-1)]: Done 280 tasks      | elapsed:  9.9min\n",
      "[Parallel(n_jobs=-1)]: Done 320 out of 320 | elapsed: 11.8min finished\n"
     ]
    },
    {
     "data": {
      "text/plain": [
       "RandomizedSearchCV(cv=4, estimator=RandomForestClassifier(), n_iter=80,\n",
       "                   n_jobs=-1,\n",
       "                   param_distributions={'criterion': ['entropy', 'gini'],\n",
       "                                        'max_depth': [5, None],\n",
       "                                        'max_features': ['auto', 'sqrt', 'log2',\n",
       "                                                         None],\n",
       "                                        'min_samples_split': [5, 7, 10, 14],\n",
       "                                        'n_estimators': [10, 103, 196, 290, 383,\n",
       "                                                         476, 570, 663, 756,\n",
       "                                                         850]},\n",
       "                   random_state=101, verbose=5)"
      ]
     },
     "execution_count": 45,
     "metadata": {},
     "output_type": "execute_result"
    }
   ],
   "source": [
    "# Random search\n",
    "from sklearn.model_selection import RandomizedSearchCV\n",
    "from sklearn.model_selection import cross_val_score\n",
    "\n",
    "# Creamos el diccionario sobre el que vamos a probar variantes\n",
    "#-------------------------------------------------------------\n",
    "random_search = {'criterion':['entropy','gini'],\n",
    "                 'max_depth': list(np.linspace(5,20,1,dtype=int))+[None],\n",
    "                 'max_features':['auto','sqrt','log2',None],\n",
    "                 'min_samples_split':[5,7,10,14],\n",
    "                 'n_estimators': list(np.linspace(10,850,10,dtype=int))}\n",
    "\n",
    "# Creamos el modelo\n",
    "#------------------\n",
    "clf = RandomForestClassifier()\n",
    "\n",
    "model = RandomizedSearchCV(estimator = clf, param_distributions = random_search, n_iter = 80,\n",
    "                          cv = 4, verbose = 5, random_state = 101, n_jobs = -1)\n",
    "\n",
    "model.fit(x_train, y_train)"
   ]
  },
  {
   "cell_type": "code",
   "execution_count": 46,
   "metadata": {},
   "outputs": [
    {
     "name": "stdout",
     "output_type": "stream",
     "text": [
      "RandomForestClassifier(max_depth=5, max_features=None, min_samples_split=5,\n",
      "                       n_estimators=383)\n"
     ]
    }
   ],
   "source": [
    "# Veamos cómo nos quedó el modelo óptimo\n",
    "#---------------------------------------\n",
    "print(model.best_estimator_)"
   ]
  },
  {
   "cell_type": "code",
   "execution_count": 49,
   "metadata": {},
   "outputs": [
    {
     "data": {
      "text/html": [
       "<div>\n",
       "<style scoped>\n",
       "    .dataframe tbody tr th:only-of-type {\n",
       "        vertical-align: middle;\n",
       "    }\n",
       "\n",
       "    .dataframe tbody tr th {\n",
       "        vertical-align: top;\n",
       "    }\n",
       "\n",
       "    .dataframe thead th {\n",
       "        text-align: right;\n",
       "    }\n",
       "</style>\n",
       "<table border=\"1\" class=\"dataframe\">\n",
       "  <thead>\n",
       "    <tr style=\"text-align: right;\">\n",
       "      <th></th>\n",
       "      <th>mean_fit_time</th>\n",
       "      <th>std_fit_time</th>\n",
       "      <th>mean_score_time</th>\n",
       "      <th>std_score_time</th>\n",
       "      <th>param_n_estimators</th>\n",
       "      <th>param_min_samples_split</th>\n",
       "      <th>param_max_features</th>\n",
       "      <th>param_max_depth</th>\n",
       "      <th>param_criterion</th>\n",
       "      <th>params</th>\n",
       "      <th>split0_test_score</th>\n",
       "      <th>split1_test_score</th>\n",
       "      <th>split2_test_score</th>\n",
       "      <th>split3_test_score</th>\n",
       "      <th>mean_test_score</th>\n",
       "      <th>std_test_score</th>\n",
       "      <th>rank_test_score</th>\n",
       "    </tr>\n",
       "  </thead>\n",
       "  <tbody>\n",
       "    <tr>\n",
       "      <th>0</th>\n",
       "      <td>5.964729</td>\n",
       "      <td>0.059959</td>\n",
       "      <td>0.374000</td>\n",
       "      <td>0.007954</td>\n",
       "      <td>663</td>\n",
       "      <td>10</td>\n",
       "      <td>log2</td>\n",
       "      <td>5</td>\n",
       "      <td>entropy</td>\n",
       "      <td>{'n_estimators': 663, 'min_samples_split': 10,...</td>\n",
       "      <td>0.732942</td>\n",
       "      <td>0.739872</td>\n",
       "      <td>0.760000</td>\n",
       "      <td>0.734933</td>\n",
       "      <td>0.741937</td>\n",
       "      <td>0.010730</td>\n",
       "      <td>62</td>\n",
       "    </tr>\n",
       "    <tr>\n",
       "      <th>1</th>\n",
       "      <td>3.416280</td>\n",
       "      <td>0.060699</td>\n",
       "      <td>0.209890</td>\n",
       "      <td>0.010214</td>\n",
       "      <td>383</td>\n",
       "      <td>14</td>\n",
       "      <td>sqrt</td>\n",
       "      <td>5</td>\n",
       "      <td>entropy</td>\n",
       "      <td>{'n_estimators': 383, 'min_samples_split': 14,...</td>\n",
       "      <td>0.730277</td>\n",
       "      <td>0.743070</td>\n",
       "      <td>0.762667</td>\n",
       "      <td>0.734400</td>\n",
       "      <td>0.742604</td>\n",
       "      <td>0.012470</td>\n",
       "      <td>51</td>\n",
       "    </tr>\n",
       "    <tr>\n",
       "      <th>2</th>\n",
       "      <td>3.739495</td>\n",
       "      <td>0.106596</td>\n",
       "      <td>0.305203</td>\n",
       "      <td>0.005921</td>\n",
       "      <td>383</td>\n",
       "      <td>7</td>\n",
       "      <td>sqrt</td>\n",
       "      <td>5</td>\n",
       "      <td>gini</td>\n",
       "      <td>{'n_estimators': 383, 'min_samples_split': 7, ...</td>\n",
       "      <td>0.731343</td>\n",
       "      <td>0.745736</td>\n",
       "      <td>0.762667</td>\n",
       "      <td>0.733333</td>\n",
       "      <td>0.743270</td>\n",
       "      <td>0.012483</td>\n",
       "      <td>42</td>\n",
       "    </tr>\n",
       "    <tr>\n",
       "      <th>3</th>\n",
       "      <td>6.680957</td>\n",
       "      <td>0.068417</td>\n",
       "      <td>0.357238</td>\n",
       "      <td>0.013647</td>\n",
       "      <td>383</td>\n",
       "      <td>14</td>\n",
       "      <td>log2</td>\n",
       "      <td>None</td>\n",
       "      <td>entropy</td>\n",
       "      <td>{'n_estimators': 383, 'min_samples_split': 14,...</td>\n",
       "      <td>0.750533</td>\n",
       "      <td>0.744670</td>\n",
       "      <td>0.762667</td>\n",
       "      <td>0.761067</td>\n",
       "      <td>0.754734</td>\n",
       "      <td>0.007449</td>\n",
       "      <td>13</td>\n",
       "    </tr>\n",
       "    <tr>\n",
       "      <th>4</th>\n",
       "      <td>3.933623</td>\n",
       "      <td>0.021867</td>\n",
       "      <td>0.205387</td>\n",
       "      <td>0.012304</td>\n",
       "      <td>196</td>\n",
       "      <td>7</td>\n",
       "      <td>sqrt</td>\n",
       "      <td>None</td>\n",
       "      <td>entropy</td>\n",
       "      <td>{'n_estimators': 196, 'min_samples_split': 7, ...</td>\n",
       "      <td>0.742004</td>\n",
       "      <td>0.737207</td>\n",
       "      <td>0.750933</td>\n",
       "      <td>0.752000</td>\n",
       "      <td>0.745536</td>\n",
       "      <td>0.006180</td>\n",
       "      <td>32</td>\n",
       "    </tr>\n",
       "  </tbody>\n",
       "</table>\n",
       "</div>"
      ],
      "text/plain": [
       "   mean_fit_time  std_fit_time  mean_score_time  std_score_time  \\\n",
       "0       5.964729      0.059959         0.374000        0.007954   \n",
       "1       3.416280      0.060699         0.209890        0.010214   \n",
       "2       3.739495      0.106596         0.305203        0.005921   \n",
       "3       6.680957      0.068417         0.357238        0.013647   \n",
       "4       3.933623      0.021867         0.205387        0.012304   \n",
       "\n",
       "  param_n_estimators param_min_samples_split param_max_features  \\\n",
       "0                663                      10               log2   \n",
       "1                383                      14               sqrt   \n",
       "2                383                       7               sqrt   \n",
       "3                383                      14               log2   \n",
       "4                196                       7               sqrt   \n",
       "\n",
       "  param_max_depth param_criterion  \\\n",
       "0               5         entropy   \n",
       "1               5         entropy   \n",
       "2               5            gini   \n",
       "3            None         entropy   \n",
       "4            None         entropy   \n",
       "\n",
       "                                              params  split0_test_score  \\\n",
       "0  {'n_estimators': 663, 'min_samples_split': 10,...           0.732942   \n",
       "1  {'n_estimators': 383, 'min_samples_split': 14,...           0.730277   \n",
       "2  {'n_estimators': 383, 'min_samples_split': 7, ...           0.731343   \n",
       "3  {'n_estimators': 383, 'min_samples_split': 14,...           0.750533   \n",
       "4  {'n_estimators': 196, 'min_samples_split': 7, ...           0.742004   \n",
       "\n",
       "   split1_test_score  split2_test_score  split3_test_score  mean_test_score  \\\n",
       "0           0.739872           0.760000           0.734933         0.741937   \n",
       "1           0.743070           0.762667           0.734400         0.742604   \n",
       "2           0.745736           0.762667           0.733333         0.743270   \n",
       "3           0.744670           0.762667           0.761067         0.754734   \n",
       "4           0.737207           0.750933           0.752000         0.745536   \n",
       "\n",
       "   std_test_score  rank_test_score  \n",
       "0        0.010730               62  \n",
       "1        0.012470               51  \n",
       "2        0.012483               42  \n",
       "3        0.007449               13  \n",
       "4        0.006180               32  "
      ]
     },
     "execution_count": 49,
     "metadata": {},
     "output_type": "execute_result"
    }
   ],
   "source": [
    "# Convertimos los resultados en un dataset Pandas para visualizar mejor\n",
    "#----------------------------------------------------------------------\n",
    "scores_df = pd.DataFrame(model.cv_results_)\n",
    "scores_df.head()"
   ]
  },
  {
   "cell_type": "code",
   "execution_count": 47,
   "metadata": {},
   "outputs": [
    {
     "name": "stdout",
     "output_type": "stream",
     "text": [
      "AUC:  0.7474756429665798\n",
      "Confusion Matrix: \n",
      " [[673 269]\n",
      " [205 729]]\n",
      "Accuracy Test :  74.73347547974414\n"
     ]
    }
   ],
   "source": [
    "# Probemos a ver cómo anduvo la cosa\n",
    "#-----------------------------------\n",
    "y_predict = model.predict(x_test)\n",
    "fpr, tpr, thresholds = metrics.roc_curve(y_test, y_predict)\n",
    "\n",
    "print(\"AUC: \", metrics.auc(fpr, tpr))\n",
    "print(\"Confusion Matrix: \\n\", metrics.confusion_matrix(y_test, y_predict))\n",
    "print (\"Accuracy Test : \", metrics.accuracy_score(y_test,y_predict)*100)"
   ]
  },
  {
   "cell_type": "markdown",
   "metadata": {},
   "source": [
    "__Mini-conclusión:__ <br><br> Los resultados obtenidos con esta búsqueda son similares a los obtenidos para Grid Search (pasamos de 0.72 a casi 0.75 en el Accuracy Test), lo cual era esperable dado que el universo de búsqueda de parámetros era el mismo. Lo notorio en este caso (también esperable) es el muy considerablemente menor tiempo de búsqueda de estos parámetros que fue de casi 12 min al tener que probar solo 80 candidatos (en relación a los 640 candidatos de Grid Search), lo cual se desprende de la naturaleza de búsqueda de este método, aleatoria y basada en probabilidades, más que exhaustiva como en el caso anterior."
   ]
  },
  {
   "cell_type": "markdown",
   "metadata": {},
   "source": [
    "### Optimizador Bayesiano\n",
    "\n",
    "<br>\n",
    "En la optimización Bayesiana se utiliza la probabilidad para encontrar el mínimo de una función y el objetivo por supuesto es encontrar los parámetros que la minimicen. En nuestro caso la función a minimizar es la media del cross_val_score.\n",
    "\n",
    "Este método es más eficiente que los dos anteriores (Random Search y Grid Search) en relación a los parámetros encontrados y al tiempo de optimización."
   ]
  },
  {
   "cell_type": "code",
   "execution_count": 54,
   "metadata": {},
   "outputs": [
    {
     "name": "stdout",
     "output_type": "stream",
     "text": [
      "Collecting hyperopt\n",
      "  Downloading hyperopt-0.2.5-py2.py3-none-any.whl (965 kB)\n",
      "Requirement already satisfied: cloudpickle in c:\\users\\andres\\anaconda3\\envs\\ai\\lib\\site-packages (from hyperopt) (1.5.0)\n",
      "Requirement already satisfied: future in c:\\users\\andres\\anaconda3\\envs\\ai\\lib\\site-packages (from hyperopt) (0.18.2)\n",
      "Requirement already satisfied: networkx>=2.2 in c:\\users\\andres\\anaconda3\\envs\\ai\\lib\\site-packages (from hyperopt) (2.5)\n",
      "Requirement already satisfied: scipy in c:\\users\\andres\\anaconda3\\envs\\ai\\lib\\site-packages (from hyperopt) (1.5.2)\n",
      "Requirement already satisfied: six in c:\\users\\andres\\anaconda3\\envs\\ai\\lib\\site-packages (from hyperopt) (1.15.0)\n",
      "Requirement already satisfied: numpy in c:\\users\\andres\\anaconda3\\envs\\ai\\lib\\site-packages (from hyperopt) (1.18.5)\n",
      "Collecting tqdm\n",
      "  Downloading tqdm-4.55.0-py2.py3-none-any.whl (68 kB)\n",
      "Requirement already satisfied: decorator>=4.3.0 in c:\\users\\andres\\anaconda3\\envs\\ai\\lib\\site-packages (from networkx>=2.2->hyperopt) (4.4.2)\n",
      "Installing collected packages: tqdm, hyperopt\n",
      "Successfully installed hyperopt-0.2.5 tqdm-4.55.0\n"
     ]
    }
   ],
   "source": [
    "# Instalamos la librería a utilizar\n",
    "!pip install hyperopt"
   ]
  },
  {
   "cell_type": "code",
   "execution_count": 73,
   "metadata": {},
   "outputs": [
    {
     "name": "stdout",
     "output_type": "stream",
     "text": [
      "100%|██████████| 80/80 [05:46<00:00,  4.33s/trial, best loss: -0.7382057569296376]\n"
     ]
    },
    {
     "data": {
      "text/plain": [
       "{'criterion': 0,\n",
       " 'max_depth': 18.0,\n",
       " 'max_features': 0,\n",
       " 'min_samples_leaf': 0.2911973047262937,\n",
       " 'min_samples_split': 0.5193558023164159,\n",
       " 'n_estimators': 0}"
      ]
     },
     "execution_count": 73,
     "metadata": {},
     "output_type": "execute_result"
    }
   ],
   "source": [
    "from hyperopt import hp, fmin, tpe, STATUS_OK, Trials\n",
    "\n",
    "space = {'criterion': hp.choice('criterion',['entropy','gini']),\n",
    "         'max_depth': hp.quniform('max_depth',5,20,1),\n",
    "         'max_features':hp.choice('max_features',['auto','sqrt','log2',None]),\n",
    "         'min_samples_leaf': hp.uniform('min_samples_leaf', 0, 0.5),\n",
    "         'min_samples_split': hp.uniform ('min_samples_split', 0, 1),\n",
    "         'n_estimators': hp.choice('n_estimators',[10,50,350,750,1200])}\n",
    "\n",
    "def objective(space):\n",
    "    model = RandomForestClassifier(criterion = space['criterion'],\n",
    "                                  max_depth = space['max_depth'],\n",
    "                                  max_features = space['max_features'],\n",
    "                                  min_samples_leaf = space['min_samples_leaf'],\n",
    "                                  min_samples_split = space['min_samples_split'],\n",
    "                                  n_estimators = space['n_estimators'],)\n",
    "    accuracy = cross_val_score(model,x_train,y_train,cv = 4).mean()\n",
    "    \n",
    "    return{'loss':-accuracy,'status':STATUS_OK}\n",
    "\n",
    "trials = Trials()\n",
    "best = fmin(fn=objective,\n",
    "            space = space,\n",
    "            algo = tpe.suggest,\n",
    "            max_evals = 80,\n",
    "            trials = trials)\n",
    "best"
   ]
  },
  {
   "cell_type": "markdown",
   "metadata": {},
   "source": [
    "- Devuelve directamente los resultados (parámetros) de la optimización\n",
    "- Tener en cuenta que para los campos con listas lo devuelto es el índice de la opción óptima (por ejemplo 'n_estimators':0 se refiere a haber seleccionado 10 como el número de estimadores."
   ]
  },
  {
   "cell_type": "code",
   "execution_count": 74,
   "metadata": {},
   "outputs": [
    {
     "name": "stdout",
     "output_type": "stream",
     "text": [
      "AUC:  0.7361200143664444\n",
      "Confusion Matrix: \n",
      " [[698 244]\n",
      " [251 683]]\n",
      "Accuracy Test :  73.61407249466951\n"
     ]
    }
   ],
   "source": [
    "# Ahora probamos nuestro modelo con el mejor criterio encontrado\n",
    "#---------------------------------------------------------------\n",
    "crit = {0: 'entropy', 1: 'gini'}\n",
    "feat = {0: 'auto', 1: 'sqrt', 2: 'log2', 3: None}\n",
    "est = {0: 10, 1: 50, 2: 300, 3: 750, 4: 1200}\n",
    "\n",
    "trainedforest = RandomForestClassifier (criterion = crit[best['criterion']],\n",
    "                                       max_depth = best['max_depth'],\n",
    "                                       max_features = feat[best['max_features']],\n",
    "                                       min_samples_leaf = best['min_samples_leaf'],\n",
    "                                       min_samples_split = best['min_samples_split'],\n",
    "                                       n_estimators = est[best['n_estimators']]).fit(x_train,y_train)\n",
    "\n",
    "y_predict = trainedforest.predict(x_test)\n",
    "fpr, tpr, thresholds = metrics.roc_curve(y_test, y_predict)\n",
    "\n",
    "print(\"AUC: \", metrics.auc(fpr, tpr))\n",
    "print(\"Confusion Matrix: \\n\", metrics.confusion_matrix(y_test, y_predict))\n",
    "print (\"Accuracy Test : \", metrics.accuracy_score(y_test,y_predict)*100)"
   ]
  },
  {
   "cell_type": "markdown",
   "metadata": {},
   "source": [
    "__Mini-conclusión:__ <br><br> Los resultados obtenidos con esta búsqueda no son tan buenos como los obtenidos con los métodos anteriores (pasamos de 0.72 a casi 0.74 en el Accuracy Test), pero tener en cuenta que el espacio de búsqueda no fue exactamente igual. Fuera de esto, el resultado es bastante aproximado. Por otro lado el tiempo invertido para la optimización es inclusive bastante menor (aproximadamente la mitad) que en el caso de Random Search, siendo en este caso de solo 5min 46seg."
   ]
  },
  {
   "cell_type": "markdown",
   "metadata": {},
   "source": [
    "### Algoritmos genéticos\n",
    "<br>\n",
    "Basados en el proceso Darwiniano de selección natural. Se definen poblaciones de modelos y \"subsisten\" los que presenten mejores características, luego esos modelos heredarán a sus hijos esas características con ciertas modificaciones evolutivas. Implementaremos este modelo mediante la librería TPOT de Python."
   ]
  },
  {
   "cell_type": "code",
   "execution_count": 78,
   "metadata": {},
   "outputs": [
    {
     "name": "stdout",
     "output_type": "stream",
     "text": [
      "Collecting tpot\n",
      "  Downloading TPOT-0.11.6.post3-py3-none-any.whl (86 kB)\n",
      "Requirement already satisfied: xgboost>=1.1.0 in c:\\users\\andres\\anaconda3\\envs\\ai\\lib\\site-packages (from tpot) (1.2.1)\n",
      "Requirement already satisfied: numpy>=1.16.3 in c:\\users\\andres\\anaconda3\\envs\\ai\\lib\\site-packages (from tpot) (1.18.5)\n",
      "Requirement already satisfied: scipy>=1.3.1 in c:\\users\\andres\\anaconda3\\envs\\ai\\lib\\site-packages (from tpot) (1.5.2)\n",
      "Requirement already satisfied: scikit-learn>=0.22.0 in c:\\users\\andres\\anaconda3\\envs\\ai\\lib\\site-packages (from tpot) (0.23.2)\n",
      "Collecting update-checker>=0.16\n",
      "  Downloading update_checker-0.18.0-py3-none-any.whl (7.0 kB)\n",
      "Requirement already satisfied: tqdm>=4.36.1 in c:\\users\\andres\\anaconda3\\envs\\ai\\lib\\site-packages (from tpot) (4.55.0)\n",
      "Requirement already satisfied: pandas>=0.24.2 in c:\\users\\andres\\anaconda3\\envs\\ai\\lib\\site-packages (from tpot) (1.1.1)\n",
      "Collecting deap>=1.2\n",
      "  Downloading deap-1.3.1-cp37-cp37m-win_amd64.whl (108 kB)\n",
      "Requirement already satisfied: joblib>=0.13.2 in c:\\users\\andres\\anaconda3\\envs\\ai\\lib\\site-packages (from tpot) (0.17.0)\n",
      "Collecting stopit>=1.1.1\n",
      "  Downloading stopit-1.1.2.tar.gz (18 kB)\n",
      "Requirement already satisfied: threadpoolctl>=2.0.0 in c:\\users\\andres\\anaconda3\\envs\\ai\\lib\\site-packages (from scikit-learn>=0.22.0->tpot) (2.1.0)\n",
      "Requirement already satisfied: requests>=2.3.0 in c:\\users\\andres\\anaconda3\\envs\\ai\\lib\\site-packages (from update-checker>=0.16->tpot) (2.24.0)\n",
      "Requirement already satisfied: python-dateutil>=2.7.3 in c:\\users\\andres\\anaconda3\\envs\\ai\\lib\\site-packages (from pandas>=0.24.2->tpot) (2.8.1)\n",
      "Requirement already satisfied: pytz>=2017.2 in c:\\users\\andres\\anaconda3\\envs\\ai\\lib\\site-packages (from pandas>=0.24.2->tpot) (2020.1)\n",
      "Requirement already satisfied: idna<3,>=2.5 in c:\\users\\andres\\anaconda3\\envs\\ai\\lib\\site-packages (from requests>=2.3.0->update-checker>=0.16->tpot) (2.10)\n",
      "Requirement already satisfied: chardet<4,>=3.0.2 in c:\\users\\andres\\anaconda3\\envs\\ai\\lib\\site-packages (from requests>=2.3.0->update-checker>=0.16->tpot) (3.0.4)\n",
      "Requirement already satisfied: certifi>=2017.4.17 in c:\\users\\andres\\anaconda3\\envs\\ai\\lib\\site-packages (from requests>=2.3.0->update-checker>=0.16->tpot) (2020.6.20)\n",
      "Requirement already satisfied: urllib3!=1.25.0,!=1.25.1,<1.26,>=1.21.1 in c:\\users\\andres\\anaconda3\\envs\\ai\\lib\\site-packages (from requests>=2.3.0->update-checker>=0.16->tpot) (1.25.9)\n",
      "Requirement already satisfied: six>=1.5 in c:\\users\\andres\\anaconda3\\envs\\ai\\lib\\site-packages (from python-dateutil>=2.7.3->pandas>=0.24.2->tpot) (1.15.0)\n",
      "Building wheels for collected packages: stopit\n",
      "  Building wheel for stopit (setup.py): started\n",
      "  Building wheel for stopit (setup.py): finished with status 'done'\n",
      "  Created wheel for stopit: filename=stopit-1.1.2-py3-none-any.whl size=11959 sha256=a8587d74b69176601826bd7d75645189e2552c82380e669c4b8dced4f7ae78c3\n",
      "  Stored in directory: c:\\users\\andres\\appdata\\local\\pip\\cache\\wheels\\e2\\d2\\79\\eaf81edb391e27c87f51b8ef901ecc85a5363dc96b8b8d71e3\n",
      "Successfully built stopit\n",
      "Installing collected packages: update-checker, deap, stopit, tpot\n",
      "Successfully installed deap-1.3.1 stopit-1.1.2 tpot-0.11.6.post3 update-checker-0.18.0\n"
     ]
    }
   ],
   "source": [
    "# Instalamos la librería TPOT\n",
    "#----------------------------\n",
    "!pip install tpot"
   ]
  },
  {
   "cell_type": "code",
   "execution_count": 11,
   "metadata": {},
   "outputs": [
    {
     "data": {
      "application/vnd.jupyter.widget-view+json": {
       "model_id": "1b7be8624d834d79b97e10ad08403371",
       "version_major": 2,
       "version_minor": 0
      },
      "text/plain": [
       "Optimization Progress:   0%|          | 0/84 [00:00<?, ?pipeline/s]"
      ]
     },
     "metadata": {},
     "output_type": "display_data"
    },
    {
     "name": "stdout",
     "output_type": "stream",
     "text": [
      "\n",
      "Generation 1 - Current best internal CV score: 0.7663266524520256\n",
      "\n",
      "Generation 2 - Current best internal CV score: 0.7663266524520256\n",
      "\n",
      "Generation 3 - Current best internal CV score: 0.7663266524520256\n",
      "\n",
      "Generation 4 - Current best internal CV score: 0.7663266524520256\n",
      "\n",
      "Generation 5 - Current best internal CV score: 0.7663266524520256\n",
      "\n",
      "Best pipeline: RandomForestClassifier(input_matrix, criterion=entropy, max_depth=None, max_features=sqrt, min_samples_leaf=4, min_samples_split=14, n_estimators=663)\n"
     ]
    },
    {
     "data": {
      "text/plain": [
       "TPOTClassifier(config_dict={'sklearn.ensemble.RandomForestClassifier': {'criterion': ['entropy',\n",
       "                                                                                      'gini'],\n",
       "                                                                        'max_depth': [5,\n",
       "                                                                                      None],\n",
       "                                                                        'max_features': ['auto',\n",
       "                                                                                         'sqrt',\n",
       "                                                                                         'log2',\n",
       "                                                                                         None],\n",
       "                                                                        'min_samples_leaf': [2,\n",
       "                                                                                             4,\n",
       "                                                                                             12],\n",
       "                                                                        'min_samples_split': [5,\n",
       "                                                                                              7,\n",
       "                                                                                              10,\n",
       "                                                                                              14],\n",
       "                                                                        'n_estimators': [10,\n",
       "                                                                                         103,\n",
       "                                                                                         196,\n",
       "                                                                                         290,\n",
       "                                                                                         383,\n",
       "                                                                                         476,\n",
       "                                                                                         570,\n",
       "                                                                                         663,\n",
       "                                                                                         756,\n",
       "                                                                                         850]}},\n",
       "               cv=4, early_stop=12, generations=5, offspring_size=12,\n",
       "               population_size=24, scoring='accuracy', verbosity=2)"
      ]
     },
     "execution_count": 11,
     "metadata": {},
     "output_type": "execute_result"
    }
   ],
   "source": [
    "from tpot import TPOTClassifier\n",
    "\n",
    "parameters = {'criterion': ['entropy', 'gini'],\n",
    "               'max_depth': list(np.linspace(5, 20, 1, dtype = int)) + [None],\n",
    "               'max_features': ['auto', 'sqrt','log2', None],\n",
    "               'min_samples_leaf': [2, 4, 12],\n",
    "               'min_samples_split': [5,7,10,14],\n",
    "               'n_estimators': list(np.linspace(10, 850, 10, dtype = int))}\n",
    "               \n",
    "tpot_classifier = TPOTClassifier(generations= 5, population_size= 24, offspring_size= 12,\n",
    "                                 verbosity= 2, early_stop= 12,\n",
    "                                 config_dict=\n",
    "                                 {'sklearn.ensemble.RandomForestClassifier': parameters}, \n",
    "                                 cv = 4, scoring = 'accuracy')\n",
    "\n",
    "tpot_classifier.fit(x_train, y_train)"
   ]
  },
  {
   "cell_type": "code",
   "execution_count": 12,
   "metadata": {},
   "outputs": [
    {
     "name": "stdout",
     "output_type": "stream",
     "text": [
      "AUC:  0.7632546757081922\n",
      "Confusion Matrix: \n",
      " [[699 285]\n",
      " [164 728]]\n",
      "Accuracy Test :  76.06609808102345\n"
     ]
    }
   ],
   "source": [
    "# Probemos a ver cómo anduvo la cosa\n",
    "#-----------------------------------\n",
    "y_predict = tpot_classifier.predict(x_test)\n",
    "fpr, tpr, thresholds = metrics.roc_curve(y_test, y_predict)\n",
    "\n",
    "print(\"AUC: \", metrics.auc(fpr, tpr))\n",
    "print(\"Confusion Matrix: \\n\", metrics.confusion_matrix(y_test, y_predict))\n",
    "print (\"Accuracy Test : \", metrics.accuracy_score(y_test,y_predict)*100)"
   ]
  },
  {
   "cell_type": "markdown",
   "metadata": {},
   "source": [
    "__Mini-conclusión:__ <br><br> Los resultados obtenidos con esta búsqueda son los mejores hasta el momento!! (llevaron de 0.72 a 0.76 en el Accuracy Test). El espacio de búsqueda fue prácticamente el mismo que en Grid Search y Random Search. Respecto al tiempo invertido para la optimización es bastante elevado, no tanto como Grid Search pero en el orden de Random Search."
   ]
  },
  {
   "cell_type": "markdown",
   "metadata": {},
   "source": [
    "### Artificial Neural Networks (ANNs) Tuning: \n",
    "<br>\n",
    "La idea es aplicar Grid Search o Random Search pero sobre modelos de Deep Learning a través del KerasClassifier. En el TP Final de ML1 habíamos propuesto una red neuronal de clasificación, vamos a utilizar esa misma red e intentar optimizar sus parámetros."
   ]
  },
  {
   "cell_type": "code",
   "execution_count": 22,
   "metadata": {},
   "outputs": [
    {
     "name": "stdout",
     "output_type": "stream",
     "text": [
      "Max Accuracy Registred: 0.683 using {'activation': 'linear', 'neurons': 40, 'optimizer': 'Adam'}\n"
     ]
    }
   ],
   "source": [
    "# Definimos el modelo tal cual lo habíamos hecho en el TP Final de ML1\n",
    "#---------------------------------------------------------------------\n",
    "from keras.models import Sequential\n",
    "from keras.layers import Dense, Dropout\n",
    "from keras.wrappers.scikit_learn import KerasClassifier\n",
    "from sklearn.model_selection import GridSearchCV\n",
    "\n",
    "input_dim = x_train.shape[1]\n",
    "\n",
    "def DL_Model(activation= 'linear', neurons= 5, optimizer='Adam'):\n",
    "    model = Sequential()\n",
    "    model.add(Dense(neurons, input_dim= input_dim, activation= activation))\n",
    "    model.add(Dense(1, activation='sigmoid'))\n",
    "    model.compile(loss='binary_crossentropy', optimizer= optimizer, metrics=['accuracy'])\n",
    "    return model\n",
    "\n",
    "# Definimos el espacio de parámetros de búsqueda\n",
    "#-----------------------------------------------\n",
    "activation = ['softmax', 'relu', 'tanh', 'sigmoid', 'linear']\n",
    "neurons = [10, 20, 40, 80, 100]\n",
    "optimizer = ['SGD', 'Adam', 'Adamax']\n",
    "param_grid = dict(activation = activation, neurons = neurons, optimizer = optimizer)\n",
    "\n",
    "clf = KerasClassifier(build_fn= DL_Model, epochs= 20, batch_size=32, verbose= 0)\n",
    "\n",
    "model = GridSearchCV(estimator= clf, param_grid=param_grid, n_jobs=-1)\n",
    "model.fit(x_train,y_train)\n",
    "\n",
    "print(\"Max Accuracy Registred: {} using {}\".format(round(model.best_score_,3), \n",
    "                                                   model.best_params_))"
   ]
  },
  {
   "cell_type": "code",
   "execution_count": 23,
   "metadata": {},
   "outputs": [
    {
     "name": "stdout",
     "output_type": "stream",
     "text": [
      "AUC:  0.5625136716613802\n",
      "Confusion Matrix: \n",
      " [[957  27]\n",
      " [756 136]]\n",
      "Accuracy Test :  58.26226012793177\n"
     ]
    }
   ],
   "source": [
    "# Verificamos cómo anduvo\n",
    "#------------------------\n",
    "y_predict = model.predict(x_test)\n",
    "fpr, tpr, thresholds = metrics.roc_curve(y_test, y_predict)\n",
    "\n",
    "print(\"AUC: \", metrics.auc(fpr, tpr))\n",
    "print(\"Confusion Matrix: \\n\", metrics.confusion_matrix(y_test, y_predict))\n",
    "print (\"Accuracy Test : \", metrics.accuracy_score(y_test,y_predict)*100)"
   ]
  },
  {
   "cell_type": "markdown",
   "metadata": {},
   "source": [
    "__Mini-conclusión:__ <br><br> Los resultados obtenidos con esta búsqueda son algo inferiores a los métodos anteriores (de hecho....bastante malos), pero esto es algo dependiente más del modelo que del método de optimización. Respecto al tiempo invertido para la optimización le llevó unos 25min."
   ]
  },
  {
   "cell_type": "code",
   "execution_count": 20,
   "metadata": {},
   "outputs": [
    {
     "name": "stderr",
     "output_type": "stream",
     "text": [
      "C:\\Users\\Andres\\Anaconda3\\envs\\AI\\lib\\site-packages\\joblib\\externals\\loky\\process_executor.py:691: UserWarning: A worker stopped while some jobs were given to the executor. This can be caused by a too short worker timeout or by a memory leak.\n",
      "  \"timeout or by a memory leak.\", UserWarning\n"
     ]
    },
    {
     "name": "stdout",
     "output_type": "stream",
     "text": [
      "Max Accuracy Registred: 0.685 using {'activation': 'linear', 'neurons': 80, 'optimizer': 'Adamax'}\n"
     ]
    }
   ],
   "source": [
    "# Solo para ver qué pasa...probemos con una red más compleja, como la propuesta en la diapositiva\n",
    "#------------------------------------------------------------------------------------------------\n",
    "from keras.models import Sequential\n",
    "from keras.layers import Dense, Dropout\n",
    "from keras.wrappers.scikit_learn import KerasClassifier\n",
    "from sklearn.model_selection import GridSearchCV\n",
    "\n",
    "input_dim = x_train.shape[1]\n",
    "\n",
    "def DL_Model(activation= 'linear', neurons= 5, optimizer='Adam'):\n",
    "    model = Sequential()\n",
    "    model.add(Dense(neurons, input_dim= input_dim, activation= activation))\n",
    "    model.add(Dense(neurons, activation= activation))\n",
    "    model.add(Dropout(0.3))\n",
    "    model.add(Dense(1, activation='sigmoid'))\n",
    "    model.compile(loss='binary_crossentropy', optimizer= optimizer, metrics=['accuracy'])\n",
    "    return model\n",
    "\n",
    "# Definimos el espacio de parámetros de búsqueda\n",
    "#-----------------------------------------------\n",
    "activation = ['softmax', 'relu', 'tanh', 'sigmoid', 'linear']\n",
    "neurons = [10, 20, 40, 80, 100]\n",
    "optimizer = ['SGD', 'Adam', 'Adamax']\n",
    "param_grid = dict(activation = activation, neurons = neurons, optimizer = optimizer)\n",
    "\n",
    "clf = KerasClassifier(build_fn= DL_Model, epochs= 20, batch_size=32, verbose= 0)\n",
    "\n",
    "model = GridSearchCV(estimator= clf, param_grid=param_grid, n_jobs=-1)\n",
    "model.fit(x_train,y_train)\n",
    "\n",
    "print(\"Max Accuracy Registred: {} using {}\".format(round(model.best_score_,3), \n",
    "                                                   model.best_params_))"
   ]
  },
  {
   "cell_type": "code",
   "execution_count": 21,
   "metadata": {},
   "outputs": [
    {
     "name": "stdout",
     "output_type": "stream",
     "text": [
      "AUC:  0.6974484122643917\n",
      "Confusion Matrix: \n",
      " [[853 131]\n",
      " [421 471]]\n",
      "Accuracy Test :  70.57569296375267\n"
     ]
    }
   ],
   "source": [
    "# Verificamos cómo anduvo\n",
    "#------------------------\n",
    "y_predict = model.predict(x_test)\n",
    "fpr, tpr, thresholds = metrics.roc_curve(y_test, y_predict)\n",
    "\n",
    "print(\"AUC: \", metrics.auc(fpr, tpr))\n",
    "print(\"Confusion Matrix: \\n\", metrics.confusion_matrix(y_test, y_predict))\n",
    "print (\"Accuracy Test : \", metrics.accuracy_score(y_test,y_predict)*100)"
   ]
  },
  {
   "cell_type": "markdown",
   "metadata": {},
   "source": [
    "__Mini-conclusión:__ <br><br> Hay una mejora razonable al complejizar el modelo, aunque el modelo de Random Forest sigue siendo superior. Respecto al tiempo invertido para la optimización le llevó aproximadamente lo mismo, unos 28min."
   ]
  },
  {
   "cell_type": "markdown",
   "metadata": {},
   "source": [
    "## 2- Reducción de la dimensionalidad\n",
    "\n",
    "La idea es explorar técnicas de reducción de dimensionalidad en sus distintas aplicaciones. Puntualmente se tratarán dos casos:\n",
    "\n",
    "- a. Utilización de reducción de la dimensionalidad como extractor de características\n",
    "- b. Utilización de reducción de la dimensionalidad como reductor de características no relevantes"
   ]
  },
  {
   "cell_type": "markdown",
   "metadata": {},
   "source": [
    "### a. Utilización como extractor de características\n",
    "\n",
    "Se armará un dataset reducido para predecir precios de vinos en función de dos datos, puntaje y año de cosecha."
   ]
  },
  {
   "cell_type": "code",
   "execution_count": 19,
   "metadata": {},
   "outputs": [],
   "source": [
    "# Armemos un dataset bien reducido donde vamos a querer discriminar precio en funcion se puntaje/año\n",
    "#---------------------------------------------------------------------------------------------------\n",
    "ds_reducido = final_ds[['points','year','price']]"
   ]
  },
  {
   "cell_type": "code",
   "execution_count": 20,
   "metadata": {},
   "outputs": [
    {
     "data": {
      "image/png": "[encoded data removed]",
      "text/plain": [
       "<Figure size 432x288 with 1 Axes>"
      ]
     },
     "metadata": {
      "needs_background": "light"
     },
     "output_type": "display_data"
    }
   ],
   "source": [
    "import matplotlib.pyplot as plt\n",
    "\n",
    "# Veamos que pinta tiene esto\n",
    "#----------------------------\n",
    "plt.scatter(ds_reducido['points'], ds_reducido['year'], c = ds_reducido['price'])\n",
    "plt.ylabel('Year')\n",
    "plt.xlabel('Points')\n",
    "plt.show()"
   ]
  },
  {
   "cell_type": "code",
   "execution_count": 70,
   "metadata": {},
   "outputs": [
    {
     "data": {
      "image/png": "[encoded data removed]",
      "text/plain": [
       "<Figure size 504x504 with 2 Axes>"
      ]
     },
     "metadata": {
      "needs_background": "light"
     },
     "output_type": "display_data"
    }
   ],
   "source": [
    "import seaborn as sns\n",
    "\n",
    "# Veamos en una mapa de correlación cómo están están relacionadas estas variables\n",
    "#--------------------------------------------------------------------------------\n",
    "corr = ds_reducido.corr(method='pearson') # .corr is used for find corelation\n",
    "plt.figure(figsize=(7,7))\n",
    "sns.heatmap(corr, cbar = True,  square = True, annot=True, fmt= '.2f',annot_kws={'size': 15},\n",
    "           xticklabels= ds_reducido.columns, \n",
    "           yticklabels= ds_reducido.columns,\n",
    "           cmap= 'coolwarm')\n",
    "\n",
    "plt.show()"
   ]
  },
  {
   "cell_type": "markdown",
   "metadata": {},
   "source": [
    "__Mini-conclusión:__ <br><br> Vemos que existe una correlación marcada entre puntaje y precio pero no hay practicamente correlación entre año y precio/puntaje. Esto ya no es muy auspicioso (en el sentido en que parece no haber información relevante en el año)...pero bueno, veamos cómo nos va con un modelo de regresión basado en random forest."
   ]
  },
  {
   "cell_type": "markdown",
   "metadata": {},
   "source": [
    "#### Regresión con Random Forest"
   ]
  },
  {
   "cell_type": "code",
   "execution_count": 21,
   "metadata": {},
   "outputs": [
    {
     "name": "stdout",
     "output_type": "stream",
     "text": [
      "Precisión del modelo (Train Set): 0.4327341742160181\n",
      "Precisión del modelo (Test Set): 0.3698771093748765\n"
     ]
    }
   ],
   "source": [
    "from sklearn.model_selection import train_test_split\n",
    "from sklearn.ensemble import RandomForestRegressor\n",
    "from sklearn import metrics\n",
    "\n",
    "# Armamos datos de entrenamiento\n",
    "#-------------------------------\n",
    "X = ds_reducido[['points', 'year']].values\n",
    "y = ds_reducido['price'].values\n",
    "\n",
    "# Separamos en train y test\n",
    "#--------------------------\n",
    "X_train, X_test, y_train, y_test = train_test_split(X, y, test_size=0.2, random_state=1)\n",
    "\n",
    "# Definimos el modelo a utilizar\n",
    "#-------------------------------\n",
    "rfr = RandomForestRegressor(n_estimators = 100, max_depth = 10)\n",
    "\n",
    "# Entrenamos...\n",
    "#--------------\n",
    "rfr.fit(X_train, y_train)\n",
    "\n",
    "# Vemos que tal dió el ajuste...\n",
    "#-------------------------------\n",
    "print('Precisión del modelo (Train Set):', rfr.score(X_train, y_train))\n",
    "print('Precisión del modelo (Test Set):', rfr.score(X_test, y_test))"
   ]
  },
  {
   "cell_type": "markdown",
   "metadata": {},
   "source": [
    "__Mini-conclusión:__ <br><br> La precisión del modelo en sí no es muy buena, pero vamos a ver si podemos mejorarla mediante reducción de la dimensionalidad. En rigor en este caso no estamos reduciendo dimensiones sino que sobre las dimensiones existentes (dos) veremos si podemos encontrar las direcciones principales (también dos) lo más ortogonales posibles. De esta manera, si alguna de las dos dimensiones de las que disponíamos tenía algún porcentaje de dependencia de la otra con esta técnica podríamos independizarlas."
   ]
  },
  {
   "cell_type": "code",
   "execution_count": 22,
   "metadata": {},
   "outputs": [],
   "source": [
    "from sklearn.decomposition import PCA\n",
    "\n",
    "# Utilizamos el Principal Components Analysis de Scikit Learn\n",
    "#------------------------------------------------------------\n",
    "pca = PCA(n_components=2)\n",
    "X_train = pca.fit_transform(X_train)\n",
    "X_test = pca.transform(X_test)"
   ]
  },
  {
   "cell_type": "code",
   "execution_count": 24,
   "metadata": {},
   "outputs": [
    {
     "data": {
      "text/plain": [
       "<matplotlib.collections.PathCollection at 0x842fbda448>"
      ]
     },
     "execution_count": 24,
     "metadata": {},
     "output_type": "execute_result"
    },
    {
     "data": {
      "image/png": "[encoded data removed]",
      "text/plain": [
       "<Figure size 432x288 with 1 Axes>"
      ]
     },
     "metadata": {
      "needs_background": "light"
     },
     "output_type": "display_data"
    }
   ],
   "source": [
    "plt.scatter(X_train[:,0], X_train[:,1], c = y_train)"
   ]
  },
  {
   "cell_type": "code",
   "execution_count": 25,
   "metadata": {},
   "outputs": [
    {
     "name": "stdout",
     "output_type": "stream",
     "text": [
      "Precisión del modelo (Train Set): 0.4334393446585053\n",
      "Precisión del modelo (Test Set): 0.3703530003144827\n"
     ]
    }
   ],
   "source": [
    "# Entrenamos (utilizando el mismo modelo que antes de aplicar PCA)\n",
    "#-----------------------------------------------------------------\n",
    "rfr.fit(X_train, y_train)\n",
    "\n",
    "# Vemos que tal dió el ajuste\n",
    "#----------------------------\n",
    "print('Precisión del modelo (Train Set):', rfr.score(X_train, y_train))\n",
    "print('Precisión del modelo (Test Set):', rfr.score(X_test, y_test))"
   ]
  },
  {
   "cell_type": "markdown",
   "metadata": {},
   "source": [
    "__Mini-conclusión:__ <br><br> Verdaderamente el resultado es prácticamente igual y esto se debe a que como ya habíamos anticipado, no parece haber información en la variable aleatoria \"año\", ni con la salida ni como dependencia con el puntaje. En otro caso esta técnica habría presentado mejoras en el resultado del modelo."
   ]
  },
  {
   "cell_type": "markdown",
   "metadata": {},
   "source": [
    "### b. Reducción de features no relevantes\n",
    "\n",
    "Sobre el dataset final utilizado en el TP Final de ML1 que contaba con 30 features se verificará si la reducción de features a través de PCA y posterior entrenamiento, arroja resultados similares en las predicciones.\n",
    "\n",
    "Se utilizará también el modelo de regresión basado en Random Forest para la estimación del precio de los vinos."
   ]
  },
  {
   "cell_type": "code",
   "execution_count": 3,
   "metadata": {},
   "outputs": [],
   "source": [
    "# Como salida vamos a mantener el precio\n",
    "#---------------------------------------\n",
    "y = final_ds['price']\n",
    "\n",
    "# Para los X descartamos la salida de puntaje binaria (ya que mantenemos la numérica) y la salida (precio)\n",
    "#---------------------------------------------------------------------------------------------------------\n",
    "X = final_ds.drop(['binary_points','price'], axis=1)"
   ]
  },
  {
   "cell_type": "code",
   "execution_count": 4,
   "metadata": {},
   "outputs": [
    {
     "name": "stdout",
     "output_type": "stream",
     "text": [
      "Cantidad de columnas (features): 30\n"
     ]
    }
   ],
   "source": [
    "# Verificamos las cantidad de features que teníamos\n",
    "#--------------------------------------------------\n",
    "print('Cantidad de columnas (features):',X.shape[1])"
   ]
  },
  {
   "cell_type": "code",
   "execution_count": 6,
   "metadata": {},
   "outputs": [],
   "source": [
    "from sklearn.model_selection import train_test_split\n",
    "\n",
    "# Separamos en datos de entrenamiento y testeo\n",
    "#---------------------------------------------\n",
    "X_train, X_test, y_train, y_test = train_test_split(X, y, test_size=0.2, random_state=42)"
   ]
  },
  {
   "cell_type": "code",
   "execution_count": 11,
   "metadata": {},
   "outputs": [
    {
     "name": "stdout",
     "output_type": "stream",
     "text": [
      "Precisión del modelo (Train Set): 0.7031637397497947\n",
      "Precisión del modelo (Test Set): 0.45362253197019076\n"
     ]
    }
   ],
   "source": [
    "from sklearn.ensemble import RandomForestRegressor\n",
    "from sklearn import metrics\n",
    "\n",
    "# Definimos el modelo a utilizar (en este caso parametrizamos un poco más en detalle)\n",
    "#------------------------------------------------------------------------------------\n",
    "rfr = RandomForestRegressor(criterion = 'mse',\n",
    "                            n_estimators = 500,\n",
    "                            max_depth = 15,\n",
    "                            min_samples_leaf = 3)\n",
    "\n",
    "# Entrenamos...\n",
    "#--------------\n",
    "rfr.fit(X_train, y_train)\n",
    "\n",
    "# Vemos que tal dió el ajuste...\n",
    "#-------------------------------\n",
    "print('Precisión del modelo (Train Set):', rfr.score(X_train, y_train))\n",
    "print('Precisión del modelo (Test Set):', rfr.score(X_test, y_test))"
   ]
  },
  {
   "cell_type": "markdown",
   "metadata": {},
   "source": [
    "__NOTA:__ <br><br> A partir de estos valores de precisión del modelo con las 30 características originales veremos si reduciendo características llegamos a precisiones similares."
   ]
  },
  {
   "cell_type": "code",
   "execution_count": 18,
   "metadata": {},
   "outputs": [
    {
     "name": "stdout",
     "output_type": "stream",
     "text": [
      "Precisión del modelo con 1 dimensiones (Train Set): 0.26281992631034234\n",
      "Precisión del modelo con 1 dimensiones (Test Set): 0.08571532942211091\n",
      "\n",
      "\n",
      "Precisión del modelo con 2 dimensiones (Train Set): 0.42550529884137667\n",
      "Precisión del modelo con 2 dimensiones (Test Set): 0.12188202896980171\n",
      "\n",
      "\n",
      "Precisión del modelo con 3 dimensiones (Train Set): 0.6762636449977724\n",
      "Precisión del modelo con 3 dimensiones (Test Set): 0.39915154709033507\n",
      "\n",
      "\n",
      "Precisión del modelo con 4 dimensiones (Train Set): 0.7258987467212497\n",
      "Precisión del modelo con 4 dimensiones (Test Set): 0.4736668455320273\n",
      "\n",
      "\n",
      "Precisión del modelo con 5 dimensiones (Train Set): 0.7291000856388177\n",
      "Precisión del modelo con 5 dimensiones (Test Set): 0.4745310448810256\n",
      "\n",
      "\n",
      "Precisión del modelo con 6 dimensiones (Train Set): 0.7314939867300041\n",
      "Precisión del modelo con 6 dimensiones (Test Set): 0.4765630033543403\n",
      "\n",
      "\n",
      "Precisión del modelo con 7 dimensiones (Train Set): 0.7347014650521386\n",
      "Precisión del modelo con 7 dimensiones (Test Set): 0.48076748549818105\n",
      "\n",
      "\n",
      "Precisión del modelo con 8 dimensiones (Train Set): 0.7359308730181706\n",
      "Precisión del modelo con 8 dimensiones (Test Set): 0.47754661142452126\n",
      "\n",
      "\n",
      "Precisión del modelo con 9 dimensiones (Train Set): 0.733994527287595\n",
      "Precisión del modelo con 9 dimensiones (Test Set): 0.4767191874053701\n",
      "\n",
      "\n",
      "Precisión del modelo con 10 dimensiones (Train Set): 0.7346533090773804\n",
      "Precisión del modelo con 10 dimensiones (Test Set): 0.4787988355793754\n",
      "\n",
      "\n"
     ]
    }
   ],
   "source": [
    "from sklearn.decomposition import PCA\n",
    "\n",
    "# Para la evaluación iremos recorriendo un ciclo for que implementa una reducción de las 30\n",
    "# características originales a de 1 a 10 características finales\n",
    "#---------------------------------------------------------------\n",
    "for i in range(1,11):\n",
    "    \n",
    "    X_train_pca = X_train.copy()\n",
    "    X_test_pca = X_test.copy()\n",
    "    \n",
    "    # Reducimos dimensiones con PCA\n",
    "    #------------------------------\n",
    "    \n",
    "    # Ajustamos con el train set\n",
    "    pca = PCA(n_components=i)\n",
    "    pca.fit(X_train_pca)\n",
    "    \n",
    "    # Transformamos train y tests sets\n",
    "    X_train_pca = pca.transform(X_train_pca)\n",
    "    X_test_pca = pca.transform(X_test_pca)\n",
    "\n",
    "    # Entrenamos...\n",
    "    #--------------\n",
    "    rfr.fit(X_train_pca, y_train)\n",
    "\n",
    "    # Vemos que tal dió el ajuste...\n",
    "    #-------------------------------\n",
    "    print('Precisión del modelo con %s dimensiones (Train Set):'%i, rfr.score(X_train_pca, y_train))\n",
    "    print('Precisión del modelo con %s dimensiones (Test Set):'%i, rfr.score(X_test_pca, y_test))\n",
    "    print('\\n')"
   ]
  },
  {
   "cell_type": "markdown",
   "metadata": {},
   "source": [
    "__Mini-conclusión:__ <br><br> Como se puede ver en los resultados sería posible reducir las características totales que describen el problema de 30 a 4 obteniendo aún preciones similares del modelo. Por supuesto esto implicaría ventajas en la complejidad y el tiempo de procesamiento tanto en la etapa de entrenamiento como de testeo.\n",
    "\n",
    "Con menos de 4 características sí comienza a verse una degradación de la precisión. Con más de 4 características las mejoras en precisión no son sustanciales."
   ]
  }
 ],
 "metadata": {
  "kernelspec": {
   "display_name": "Python 3",
   "language": "python",
   "name": "python3"
  },
  "language_info": {
   "codemirror_mode": {
    "name": "ipython",
    "version": 3
   },
   "file_extension": ".py",
   "mimetype": "text/x-python",
   "name": "python",
   "nbconvert_exporter": "python",
   "pygments_lexer": "ipython3",
   "version": "3.7.7"
  }
 },
 "nbformat": 4,
 "nbformat_minor": 4
}
