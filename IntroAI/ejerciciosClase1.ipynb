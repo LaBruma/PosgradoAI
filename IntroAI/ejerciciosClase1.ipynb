{
 "cells": [
  {
   "cell_type": "markdown",
   "metadata": {},
   "source": [
    "#### Operaciones matriciales"
   ]
  },
  {
   "cell_type": "code",
   "execution_count": 1,
   "metadata": {},
   "outputs": [],
   "source": [
    "# Cargo el módulo de numpy\n",
    "#-------------------------\n",
    "import numpy as np"
   ]
  },
  {
   "cell_type": "code",
   "execution_count": 2,
   "metadata": {},
   "outputs": [
    {
     "name": "stdout",
     "output_type": "stream",
     "text": [
      "[[1. 2.]\n",
      " [3. 4.]\n",
      " [0. 1.]]\n"
     ]
    }
   ],
   "source": [
    "# Armo mi matriz de prueba\n",
    "#-------------------------\n",
    "mat=np.array([[1,2],[3,4],[0,1]], dtype=np.float64)\n",
    "print(mat)"
   ]
  },
  {
   "cell_type": "markdown",
   "metadata": {},
   "source": [
    "#### Ejercicio 1: Definición de normas\n",
    "\n",
    "Trabajando siempre en modo vectorizado"
   ]
  },
  {
   "cell_type": "code",
   "execution_count": 3,
   "metadata": {},
   "outputs": [],
   "source": [
    "# Defino las normas\n",
    "#------------------\n",
    "def norm_l0(m):\n",
    "    mask = m > 0\n",
    "    return np.sum(mask)\n",
    "\n",
    "def norm_l1(m):\n",
    "    abs_m=np.abs(m)\n",
    "    return np.sum(abs_m,axis=1) # Suma por filas (con axis=0 sería por columnas)\n",
    "\n",
    "def norm_l2(m):\n",
    "    sqr_m=np.square(m)\n",
    "    return np.sqrt(np.sum(sqr_m,axis=1))\n",
    "\n",
    "def norm_inf(m):\n",
    "    return np.max(m, axis=1)"
   ]
  },
  {
   "cell_type": "code",
   "execution_count": 7,
   "metadata": {},
   "outputs": [
    {
     "name": "stdout",
     "output_type": "stream",
     "text": [
      "Norma 0: 5\n",
      "Norma 1: [3. 7. 1.]\n",
      "Norma 2: [2.23606798 5.         1.        ]\n",
      "Norma infinito: [2. 4. 1.]\n"
     ]
    }
   ],
   "source": [
    "norm0=norm_l0(mat)\n",
    "print('Norma 0: {}'.format(norm0))\n",
    "\n",
    "norm1=norm_l1(mat)\n",
    "print('Norma 1: {}'.format(norm1))\n",
    "\n",
    "norm2=norm_l2(mat)\n",
    "print('Norma 2: {}'.format(norm2))\n",
    "\n",
    "norminf=norm_inf(mat)\n",
    "print('Norma infinito: {}'.format(norminf))"
   ]
  },
  {
   "cell_type": "markdown",
   "metadata": {},
   "source": [
    "#### Ejercicio 2: Sorting\n",
    "\n",
    "Ordenar según la norma dos obtenida en el ejercicio anterior"
   ]
  },
  {
   "cell_type": "code",
   "execution_count": 6,
   "metadata": {},
   "outputs": [
    {
     "name": "stdout",
     "output_type": "stream",
     "text": [
      "[2 0 1]\n",
      "[[0. 1.]\n",
      " [1. 2.]\n",
      " [3. 4.]]\n"
     ]
    }
   ],
   "source": [
    "# Sorting: Ordenamos segun la norma 2\n",
    "id_ord = np.argsort(norm2) # ordena y devuelve los índices de los valores ordenados\n",
    "print(id_ord)\n",
    "\n",
    "mat_ord=mat[id_ord]\n",
    "print(mat_ord)"
   ]
  },
  {
   "cell_type": "markdown",
   "metadata": {},
   "source": [
    "#### Definimos los tests de prueba"
   ]
  },
  {
   "cell_type": "code",
   "execution_count": 4,
   "metadata": {},
   "outputs": [],
   "source": [
    "from unittest import TestCase\n",
    "import numpy as np\n",
    "import math\n",
    "\n",
    "#from clase_1.norm import norm_l0\n",
    "\n",
    "class NormTestCase(TestCase):\n",
    "\n",
    "    def test_norm_l0(self):\n",
    "        a = np.array([[1,2,3,4],[5,6,7,8]])\n",
    "        expected = 6\n",
    "        result = norm_l0(a)\n",
    "        self.assertTrue(expected, result)\n",
    "\n",
    "        a = np.array([[1,0,0,4],[5,6,0,8]])\n",
    "        expected = 5\n",
    "        result = norm_l0(a)\n",
    "        self.assertTrue(expected, result)\n",
    "        \n",
    "    def test_norm_l1(self):\n",
    "        a = np.array([[1, 2, 3, 4], [5, 6, 7, 8]])\n",
    "        expected = np.array([10, 26])\n",
    "        result = norm_l1(a)\n",
    "        np.testing.assert_equal(expected, result)\n",
    "        \n",
    "        a = np.array([[-1, -2, -3, -4], [-5, -6, -7, -8]])\n",
    "        expected = np.array([10, 26])\n",
    "        result = norm_l1(a)\n",
    "        np.testing.assert_equal(expected, result)\n",
    "        \n",
    "    def test_norm_l2(self):\n",
    "        a = np.array([[1, 2], [3, 4]])\n",
    "        expected = np.array([math.sqrt(5), math.sqrt(25)])\n",
    "        result = norm_l2(a)\n",
    "        np.testing.assert_allclose(expected, result)\n",
    "        \n",
    "    def test_norm_inf(self):\n",
    "        a = np.array([[1, 2, 3, 4], [5, 6, 7, 8]])\n",
    "        expected = np.array([4, 8])\n",
    "        result = norm_inf(a)\n",
    "        np.testing.assert_equal(expected, result)"
   ]
  },
  {
   "cell_type": "code",
   "execution_count": 7,
   "metadata": {},
   "outputs": [],
   "source": [
    "# Creo un objeto de prueba y corro los tests\n",
    "\n",
    "test_obj = NormTestCase()\n",
    "\n",
    "test_obj.test_norm_l0()\n",
    "test_obj.test_norm_l1()\n",
    "test_obj.test_norm_l2()\n",
    "test_obj.test_norm_inf()"
   ]
  },
  {
   "cell_type": "code",
   "execution_count": null,
   "metadata": {},
   "outputs": [],
   "source": []
  }
 ],
 "metadata": {
  "kernelspec": {
   "display_name": "Python 3",
   "language": "python",
   "name": "python3"
  },
  "language_info": {
   "codemirror_mode": {
    "name": "ipython",
    "version": 3
   },
   "file_extension": ".py",
   "mimetype": "text/x-python",
   "name": "python",
   "nbconvert_exporter": "python",
   "pygments_lexer": "ipython3",
   "version": "3.7.7"
  }
 },
 "nbformat": 4,
 "nbformat_minor": 4
}
