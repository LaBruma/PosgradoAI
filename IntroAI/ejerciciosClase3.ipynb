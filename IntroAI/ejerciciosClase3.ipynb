{
 "cells": [
  {
   "cell_type": "markdown",
   "metadata": {},
   "source": [
    "## Regresión lineal"
   ]
  },
  {
   "cell_type": "code",
   "execution_count": 1,
   "metadata": {},
   "outputs": [],
   "source": [
    "# Cargo el módulo de numpy\n",
    "#-------------------------\n",
    "import numpy as np"
   ]
  },
  {
   "cell_type": "code",
   "execution_count": 14,
   "metadata": {},
   "outputs": [],
   "source": [
    "# Clase para levantar los datos\n",
    "#==========================================================\n",
    "class Data(object):\n",
    "\n",
    "    def __init__(self, path):\n",
    "        self.dataset = self._build(path)\n",
    "\n",
    "    def split(self, percentage):\n",
    "        # return train, test (segun el parametro percentage)\n",
    "        return NotImplemented\n",
    "\n",
    "    def _build_dataset(self, path):\n",
    "        # usar np estructurado para levantar la data y cargarla\n",
    "        structure = [('word', np.dtype('U' + str(20))),('embedding', np.float32, (100,))]\n",
    "        structure = np.dtype(structure)\n",
    "        # load numpy array from disk using a generator\n",
    "        with open(cls.WORD_TO_VEC_MODEL_TXT_PATH, encoding=\"utf8\") as words_embeddings_txt:\n",
    "            embeddings_gen = ((line.split()[0], line.split()[1:])\n",
    "            for line in words_embeddings_txt)\n",
    "            embeddings = np.fromiter(embeddings_gen, structure)\n",
    "        return embeddings\n",
    "    \n",
    "# Clase base de la que heredan las que vayamos implementando\n",
    "#===========================================================\n",
    "class BaseModel(object):\n",
    "\n",
    "    def __init__(self):\n",
    "        self.model = None\n",
    "\n",
    "    def fit(self, X, Y):\n",
    "        # train del model\n",
    "        return NotImplemented\n",
    "\n",
    "    def predict(self, X):\n",
    "        # return Y hat\n",
    "        return NotImplemented\n",
    "\n",
    "# Modelo de la regresión lineal\n",
    "#==============================\n",
    "class LinearRegression(BaseModel):\n",
    "\n",
    "    def fit(self, X, Y):\n",
    "        # calcular W y guardarlo en el modelo\n",
    "        # self.model = W\n",
    "        return NotImplemented\n",
    "\n",
    "    def predict(self, X):\n",
    "        # usar el modelo para predecir Y hat a partir de X y W\n",
    "        return NotImplemented\n",
    "\n",
    "\n",
    "# Modelo que incluye la ordenada al origen (b)\n",
    "# ============================================\n",
    "class LinearRegressionAffine(BaseModel):\n",
    "\n",
    "    def fit(self, X, Y):\n",
    "        # calcular W y guardarlo en el modelo\n",
    "        # self.model = W\n",
    "        return NotImplemented\n",
    "\n",
    "    def predict(self, X):\n",
    "        # usar el modelo para predecir Y hat a partir de X y W\n",
    "        return NotImplemented\n",
    "\n",
    "class LinearRegresion(BaseModel):\n",
    "    def fit(self, X, Y):\n",
    "        # calcular W y guardarlo en el modelo\n",
    "        # self.model = W\n",
    "        return NotImplemented\n",
    "\n",
    "    def predict(self, X):\n",
    "    # usar el modelo para predecir Y hat a partir de X y W\n",
    "    \n",
    "        return NotImplemented\n",
    "\n",
    "        \n",
    "#class Constant(BaseModel):  \n",
    "    # Este hace un promedio de los datos en y.\n",
    "\n",
    "class Metric(object):\n",
    "\n",
    "    def __call__(self, target, prediction):\n",
    "        return NotImplemented\n",
    "\n",
    "\n",
    "class MSE(Metric):\n",
    "\n",
    "    def __call__(self, target, prediction):\n",
    "        return NotImplemented"
   ]
  },
  {
   "cell_type": "code",
   "execution_count": 15,
   "metadata": {},
   "outputs": [
    {
     "ename": "TypeError",
     "evalue": "__init__() missing 1 required positional argument: 'path'",
     "output_type": "error",
     "traceback": [
      "\u001b[1;31m---------------------------------------------------------------------------\u001b[0m",
      "\u001b[1;31mTypeError\u001b[0m                                 Traceback (most recent call last)",
      "\u001b[1;32m<ipython-input-15-c8b013ad9b5c>\u001b[0m in \u001b[0;36m<module>\u001b[1;34m\u001b[0m\n\u001b[1;32m----> 1\u001b[1;33m \u001b[0mdata\u001b[0m \u001b[1;33m=\u001b[0m \u001b[0mData\u001b[0m\u001b[1;33m(\u001b[0m\u001b[1;33m)\u001b[0m\u001b[1;33m\u001b[0m\u001b[1;33m\u001b[0m\u001b[0m\n\u001b[0m",
      "\u001b[1;31mTypeError\u001b[0m: __init__() missing 1 required positional argument: 'path'"
     ]
    }
   ],
   "source": [
    "data = Data()"
   ]
  },
  {
   "cell_type": "code",
   "execution_count": null,
   "metadata": {},
   "outputs": [],
   "source": []
  }
 ],
 "metadata": {
  "kernelspec": {
   "display_name": "Python 3",
   "language": "python",
   "name": "python3"
  },
  "language_info": {
   "codemirror_mode": {
    "name": "ipython",
    "version": 3
   },
   "file_extension": ".py",
   "mimetype": "text/x-python",
   "name": "python",
   "nbconvert_exporter": "python",
   "pygments_lexer": "ipython3",
   "version": "3.7.7"
  }
 },
 "nbformat": 4,
 "nbformat_minor": 4
}
