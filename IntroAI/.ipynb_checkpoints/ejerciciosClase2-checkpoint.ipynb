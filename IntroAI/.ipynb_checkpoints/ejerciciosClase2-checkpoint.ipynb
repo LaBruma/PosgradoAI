{
 "cells": [
  {
   "cell_type": "markdown",
   "metadata": {},
   "source": [
    "### Ejercicios Clase 2"
   ]
  },
  {
   "cell_type": "code",
   "execution_count": 1,
   "metadata": {},
   "outputs": [],
   "source": [
    "# Cargo el módulo de numpy\n",
    "#-------------------------\n",
    "import numpy as np"
   ]
  },
  {
   "cell_type": "markdown",
   "metadata": {},
   "source": [
    "### Ejercicio 1"
   ]
  },
  {
   "cell_type": "code",
   "execution_count": 2,
   "metadata": {},
   "outputs": [],
   "source": [
    "# Armo las matrices de prueba\n",
    "#----------------------------\n",
    "X=np.array([[1,2,3],[3,5,6],[7,8,9]], dtype=np.float64)\n",
    "C=np.array([[1,0,0],[0,1,1]], dtype=np.float64)"
   ]
  },
  {
   "cell_type": "code",
   "execution_count": 4,
   "metadata": {},
   "outputs": [
    {
     "name": "stdout",
     "output_type": "stream",
     "text": [
      "[[[1. 0. 0.]]\n",
      "\n",
      " [[0. 1. 1.]]]\n",
      "[[ 3.60555128  8.06225775 13.45362405]\n",
      " [ 2.44948974  7.07106781 12.72792206]]\n"
     ]
    }
   ],
   "source": [
    "# Expandimos (agregamos una dimensión)\n",
    "expanded_C=C[:,None]\n",
    "print(expanded_C)\n",
    "# Operamos con X por broadcasting\n",
    "distances=np.sqrt(np.sum((expanded_C-X)**2,axis=2))\n",
    "print(distances)"
   ]
  },
  {
   "cell_type": "markdown",
   "metadata": {},
   "source": [
    "### Ejercicio2"
   ]
  },
  {
   "cell_type": "code",
   "execution_count": null,
   "metadata": {},
   "outputs": [],
   "source": [
    "# Podemos pensar el parámetro axis como la dimensión que queremos comprimir (en este caso la filas, por eso va 0)\n",
    "\n",
    "indexes = np.argmin(distances,axis=0)\n",
    "print(indexes)"
   ]
  },
  {
   "cell_type": "markdown",
   "metadata": {},
   "source": [
    "### Ejercicio 3"
   ]
  },
  {
   "cell_type": "code",
   "execution_count": null,
   "metadata": {},
   "outputs": [],
   "source": [
    "MAX_ITERATIONS = 10\n",
    "\n",
    "def k_means(X, n_clusters):\n",
    "    centroids = np.eye(n_clusters, X.shape[1])\n",
    "    print(centroids)\n",
    "    for i in range(MAX_ITERATIONS):\n",
    "        print(\"Iteration # {}\".format(i))\n",
    "        centroids, cluster_ids = k_means_loop(X, centroids)\n",
    "        print(centroids)\n",
    "    return centroids, cluster_ids\n",
    "\n",
    "def k_means_loop(X, centroids):\n",
    "    # find labels for rows in X based in centroids values\n",
    "    expanded_centroids = centroids[:, None]\n",
    "    distances = np.sqrt(np.sum((expanded_centroids - X) ** 2, axis=2))\n",
    "    arg_min = np.argmin(distances, axis=0)\n",
    "    \n",
    "    # recompute centroids\n",
    "    for i in range(centroids.shape[0]):\n",
    "        centroids[i] = np.mean(X[arg_min == i, :], axis=0)\n",
    "    \n",
    "    return centroids, arg_min"
   ]
  },
  {
   "cell_type": "markdown",
   "metadata": {},
   "source": [
    "### Ejercicio 4"
   ]
  },
  {
   "cell_type": "code",
   "execution_count": null,
   "metadata": {},
   "outputs": [],
   "source": [
    "centroids = np.array([[1,0,0,0],[0,1,0,0]],dtype=np.float32)\n",
    "\n",
    "def syntheticdataset(centroids,n,overlap)\n",
    "    # Agrego solape\n",
    "    centroids = centroids*inv_overlap\n",
    "    # Generamos más centroides\n",
    "    nube = np.repeat(centroids,n/2,axis=0)\n",
    "    # Agrego ruido\n",
    "    nube = nube + np.random.normal(loc=0, scale=1, size=(n_samples,4))\n",
    "    \n",
    "    #\n",
    "    cluster_ids = np.array([[0],[1]])\n",
    "    \n",
    "    "
   ]
  },
  {
   "cell_type": "code",
   "execution_count": 19,
   "metadata": {},
   "outputs": [
    {
     "data": {
      "text/plain": [
       "array([[1, 0, 0, 0],\n",
       "       [1, 0, 0, 0],\n",
       "       [1, 0, 0, 0],\n",
       "       [1, 0, 0, 0],\n",
       "       [0, 1, 0, 0],\n",
       "       [0, 1, 0, 0],\n",
       "       [0, 1, 0, 0],\n",
       "       [0, 1, 0, 0]])"
      ]
     },
     "execution_count": 19,
     "metadata": {},
     "output_type": "execute_result"
    }
   ],
   "source": [
    "centroids = np.array([[1,0,0,0],[0,1,0,0]])\n",
    "np.repeat(centroids,4,axis=0)"
   ]
  },
  {
   "cell_type": "markdown",
   "metadata": {},
   "source": [
    "### Ejercicio 5"
   ]
  },
  {
   "cell_type": "code",
   "execution_count": 45,
   "metadata": {},
   "outputs": [],
   "source": [
    "# Definimos una variable aleatoria exponencial\n",
    "def random_exp_variable(lambda_p,n):\n",
    "    U = np.random.uniform(low=0.0,high=1.0,size=n)\n",
    "    X=(-1/lambda_p)* np.log(1-U)\n",
    "    return(X)"
   ]
  },
  {
   "cell_type": "code",
   "execution_count": 48,
   "metadata": {},
   "outputs": [],
   "source": [
    "X=random_exp_variable(1,100)"
   ]
  },
  {
   "cell_type": "markdown",
   "metadata": {},
   "source": [
    "### Ejercicio 6"
   ]
  },
  {
   "cell_type": "code",
   "execution_count": null,
   "metadata": {},
   "outputs": [],
   "source": []
  },
  {
   "cell_type": "markdown",
   "metadata": {},
   "source": [
    "### Ejercicio 7\n",
    "\n",
    "Ingeniería de features I\n",
    "\n",
    "Normalización de datos:\n",
    "\n",
    "- 1: Restar media\n",
    "- 2: Dividir por desvío de los datos"
   ]
  },
  {
   "cell_type": "code",
   "execution_count": 51,
   "metadata": {},
   "outputs": [],
   "source": [
    "# Debe recibir los datos organizados en columnas\n",
    "def normalizar_datos(X):\n",
    "    X = X-np.mean(X,axis=0)/np.std(X,axis=0)\n",
    "    return(X)"
   ]
  },
  {
   "cell_type": "code",
   "execution_count": 54,
   "metadata": {},
   "outputs": [],
   "source": [
    "X_norm = normalizar_datos(X)"
   ]
  },
  {
   "cell_type": "markdown",
   "metadata": {},
   "source": [
    "### Ejercicio 8\n",
    "\n",
    "PCA: Principal component Analisis (Reducción de la dimensión del dataset)\n",
    "\n",
    "X es de nxn\n",
    "\n",
    "- Paso 1: X-mean(X)\n",
    "- Paso 2: Matriz de covarianza de la traspuesta --> np.cov(X^t)\n",
    "- Paso 3: Calculamos autovalores y autovectores --> np.linalg.eig\n",
    "- Paso 4: Ordenamos autovectores según autovalores descendente\n",
    "- Paso 5: Proyectar el dataset sobre los autovalores más relevantes (d)\n",
    "          PCA = (X-mean(X)) V[:,:d]\n"
   ]
  },
  {
   "cell_type": "code",
   "execution_count": 69,
   "metadata": {},
   "outputs": [],
   "source": [
    "# Hacemos la PCA casera\n",
    "def PCA_casera(X):\n",
    "    # Paso 1\n",
    "    X_mean = X-np.mean(X,axis=0) # Unicamente centrados, por eso no uso la f anterior\n",
    "    # Paso 2\n",
    "    X_cov = np.cov(np.transpose(X_mean)) # Vale X_mean.T\n",
    "    # Paso 3\n",
    "    w, v = np.linalg.eig(X_cov)\n",
    "    # Paso 4\n",
    "    id_ord = np.argsort(w)[::-1] # Lo último entre corchetes lo invierte\n",
    "    mat_ord=v[id_ord]\n",
    "    # w=w[idx]\n",
    "    # v=v[:,idx]\n",
    "    # Paso 5\n",
    "    PCA = np.matmul(X_mean,v[:,:2])\n",
    "    return(w,v)"
   ]
  },
  {
   "cell_type": "code",
   "execution_count": 70,
   "metadata": {},
   "outputs": [],
   "source": [
    "x = np.array([ [0.4, 4800, 5.5], [0.7, 12104, 5.2], [1, 12500, 5.5], [1.5, 7002, 4.0] ])\n",
    "\n",
    "w,v = PCA_casera(x)"
   ]
  },
  {
   "cell_type": "code",
   "execution_count": 71,
   "metadata": {},
   "outputs": [
    {
     "ename": "ModuleNotFoundError",
     "evalue": "No module named 'sklearn'",
     "output_type": "error",
     "traceback": [
      "\u001b[1;31m---------------------------------------------------------------------------\u001b[0m",
      "\u001b[1;31mModuleNotFoundError\u001b[0m                       Traceback (most recent call last)",
      "\u001b[1;32m<ipython-input-71-d456a3af43b7>\u001b[0m in \u001b[0;36m<module>\u001b[1;34m\u001b[0m\n\u001b[0;32m      1\u001b[0m \u001b[1;31m# Ahora comparamos contra la función embebida de PCA\u001b[0m\u001b[1;33m\u001b[0m\u001b[1;33m\u001b[0m\u001b[1;33m\u001b[0m\u001b[0m\n\u001b[1;32m----> 2\u001b[1;33m \u001b[1;32mfrom\u001b[0m \u001b[0msklearn\u001b[0m\u001b[1;33m.\u001b[0m\u001b[0mdecomposition\u001b[0m \u001b[1;32mimport\u001b[0m \u001b[0mPCA\u001b[0m\u001b[1;33m\u001b[0m\u001b[1;33m\u001b[0m\u001b[0m\n\u001b[0m\u001b[0;32m      3\u001b[0m \u001b[1;32mfrom\u001b[0m \u001b[0msklearn\u001b[0m\u001b[1;33m.\u001b[0m\u001b[0mpreprocessing\u001b[0m \u001b[1;32mimport\u001b[0m \u001b[0mStandardScaler\u001b[0m\u001b[1;33m\u001b[0m\u001b[1;33m\u001b[0m\u001b[0m\n\u001b[0;32m      4\u001b[0m \u001b[1;33m\u001b[0m\u001b[0m\n\u001b[0;32m      5\u001b[0m \u001b[0mpca\u001b[0m \u001b[1;33m=\u001b[0m \u001b[0mPCA\u001b[0m\u001b[1;33m(\u001b[0m\u001b[0mn_components\u001b[0m\u001b[1;33m=\u001b[0m\u001b[1;36m3\u001b[0m\u001b[1;33m)\u001b[0m\u001b[1;33m\u001b[0m\u001b[1;33m\u001b[0m\u001b[0m\n",
      "\u001b[1;31mModuleNotFoundError\u001b[0m: No module named 'sklearn'"
     ]
    }
   ],
   "source": [
    "# Ahora comparamos contra la función embebida de PCA\n",
    "from sklearn.decomposition import PCA\n",
    "from sklearn.preprocessing import StandardScaler\n",
    "\n",
    "pca = PCA(n_components=3)\n",
    "x_std = StandardScaler(with_std=False).fit_transform(x)\n",
    "pca.fit_transform(x_std)"
   ]
  },
  {
   "cell_type": "markdown",
   "metadata": {},
   "source": [
    "### Ejercicio 10\n",
    "\n",
    "Remover NaNs"
   ]
  },
  {
   "cell_type": "code",
   "execution_count": null,
   "metadata": {},
   "outputs": [],
   "source": []
  }
 ],
 "metadata": {
  "kernelspec": {
   "display_name": "Python 3",
   "language": "python",
   "name": "python3"
  },
  "language_info": {
   "codemirror_mode": {
    "name": "ipython",
    "version": 3
   },
   "file_extension": ".py",
   "mimetype": "text/x-python",
   "name": "python",
   "nbconvert_exporter": "python",
   "pygments_lexer": "ipython3",
   "version": "3.7.7"
  }
 },
 "nbformat": 4,
 "nbformat_minor": 4
}
