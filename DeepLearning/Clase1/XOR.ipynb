{
 "cells": [
  {
   "cell_type": "markdown",
   "metadata": {},
   "source": [
    "## Implementación de una compuerta XOR con redes neuronales"
   ]
  },
  {
   "cell_type": "code",
   "execution_count": 1,
   "metadata": {},
   "outputs": [],
   "source": [
    "import numpy as np"
   ]
  },
  {
   "cell_type": "markdown",
   "metadata": {},
   "source": [
    "### Primer prueba - Realizar un ajuste lineal para resolver el problema"
   ]
  },
  {
   "cell_type": "code",
   "execution_count": 52,
   "metadata": {},
   "outputs": [
    {
     "name": "stdout",
     "output_type": "stream",
     "text": [
      "W: [0.  0.  0.5]\n"
     ]
    }
   ],
   "source": [
    "X = np.array([[0,0,1],[0,1,1],[1,0,1],[1,1,1]])\n",
    "y = np.array([0,1,1,0])\n",
    "W = np.linalg.inv(X.T.dot(X)).dot(X.T).dot(y.T)\n",
    "np.set_printoptions(precision=2)\n",
    "np.set_printoptions(suppress=True)\n",
    "print('W: {}'.format(W))"
   ]
  },
  {
   "cell_type": "markdown",
   "metadata": {},
   "source": [
    "Esto no funciona. El resultado de estos pesos aplicados sobre la entrada nos da siempre como salida 0.5"
   ]
  },
  {
   "cell_type": "markdown",
   "metadata": {},
   "source": [
    "### Probamos con una red neuronal de dos neuronas en una capa oculta, una neurona en la capa de salida"
   ]
  },
  {
   "cell_type": "code",
   "execution_count": 2,
   "metadata": {},
   "outputs": [],
   "source": [
    "def sigmoid(z):\n",
    "    out = 1/(1 + np.exp(-z))\n",
    "    return out\n",
    "\n",
    "def trainNetwork(X_train, y_train, lr=0.01, amt_epochs=100):\n",
    "    # Inicializamos random los parámatros\n",
    "    #====================================\n",
    "    W1 = np.random.rand(2,2)\n",
    "    W2 = np.random.rand(2,1)\n",
    "    b1 = np.random.rand(2,1)\n",
    "    b2 = np.random.rand()\n",
    "    n = X_train.shape[0]\n",
    "    \n",
    "    #y_hat = np.zeros(y_train.shape)\n",
    "    for i in range (amt_epochs):\n",
    "        for j in range(n):\n",
    "            # Forward\n",
    "            #--------\n",
    "            z1 = X_train[j,:] @ W1[0,:] + b1[0]\n",
    "            z2 = X_train[j,:] @ W1[1,:] + b1[1]\n",
    "            a1 = sigmoid(z1)\n",
    "            a2 = sigmoid(z2)\n",
    "            y_hat = a1 * W2[0] + a2 * W2 [1] + b2\n",
    "        \n",
    "            # Calculo el error del pasaje \"forward\" en esta corrida\n",
    "            #err = np.sum(y_train-y_hat)\n",
    "            err = y_train[j]-y_hat\n",
    "            #print(err)\n",
    "            \n",
    "            # Backpropagation\n",
    "            #----------------\n",
    "            # Output (actualización de parámetros)\n",
    "            W2[0] = W2[0] + lr*2*err*a1\n",
    "            W2[1] = W2[1] + lr*2*err*a2\n",
    "            b2 = b2 + lr*2*err\n",
    "\n",
    "            # Hidden (actualización de parámetros)\n",
    "            W1[0,0] = W1[0,0] + lr * (2*err*W2[0] * (a1*(1-a1)) * X_train[j,0])\n",
    "            W1[0,1] = W1[0,1] + lr * (2*err*W2[0] * (a1*(1-a1)) * X_train[j,1])\n",
    "            W1[1,0] = W1[1,0] + lr * (2*err*W2[1] * (a2*(1-a2)) * X_train[j,0])\n",
    "            W1[1,1] = W1[1,1] + lr * (2*err*W2[1] * (a2*(1-a2)) * X_train[j,1])\n",
    "            b1[0] = b1[0] + lr * (2*err*W2[0] * (a1*(1-a1))) \n",
    "            b1[1] = b1[1] + lr * (2*err*W2[1] * (a2*(1-a2))) \n",
    "    return W1,W2,b1,b2\n",
    "\n",
    "def testNetwork(W1,W2,b1,b2,X_test):\n",
    "    n = X_test.shape[0]\n",
    "    y_hat = np.zeros((n,1), dtype=float)\n",
    "    for i in range(n):\n",
    "        z1 = X_test[i,:] @ W1[0,:] + b1[0]\n",
    "        z2 = X_test[i,:] @ W1[1,:] + b1[1]\n",
    "        a1 = sigmoid(z1)\n",
    "        a2 = sigmoid(z2)\n",
    "        y_hat[i] = a1 * W2[0] + a2 * W2 [1] + b2\n",
    "    \n",
    "    return y_hat"
   ]
  },
  {
   "cell_type": "code",
   "execution_count": 3,
   "metadata": {},
   "outputs": [],
   "source": [
    "# Entrenamos la red\n",
    "#------------------\n",
    "X = np.array([[0,0],[0,1],[1,0],[1,1]])\n",
    "y = np.array([0,1,1,0])\n",
    "W1,W2,b1,b2 = trainNetwork(X,y,lr=0.05, amt_epochs=3000)"
   ]
  },
  {
   "cell_type": "code",
   "execution_count": 4,
   "metadata": {},
   "outputs": [
    {
     "name": "stdout",
     "output_type": "stream",
     "text": [
      "[[6.34683461e-09]\n",
      " [9.99999994e-01]\n",
      " [9.99999992e-01]\n",
      " [7.94919819e-09]]\n",
      "Exito!!\n"
     ]
    }
   ],
   "source": [
    "y = testNetwork(W1,W2,b1,b2,X)\n",
    "print(y)\n",
    "print('Exito!!')"
   ]
  },
  {
   "cell_type": "code",
   "execution_count": null,
   "metadata": {},
   "outputs": [],
   "source": []
  }
 ],
 "metadata": {
  "kernelspec": {
   "display_name": "Python 3",
   "language": "python",
   "name": "python3"
  },
  "language_info": {
   "codemirror_mode": {
    "name": "ipython",
    "version": 3
   },
   "file_extension": ".py",
   "mimetype": "text/x-python",
   "name": "python",
   "nbconvert_exporter": "python",
   "pygments_lexer": "ipython3",
   "version": "3.7.7"
  }
 },
 "nbformat": 4,
 "nbformat_minor": 4
}
