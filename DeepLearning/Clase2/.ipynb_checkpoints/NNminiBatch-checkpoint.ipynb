{
 "cells": [
  {
   "cell_type": "markdown",
   "metadata": {},
   "source": [
    "### Implementación de una red neuronal con dos capas ocultas y mini-batch (indexada)"
   ]
  },
  {
   "cell_type": "code",
   "execution_count": 284,
   "metadata": {},
   "outputs": [],
   "source": [
    "import numpy as np\n",
    "import pandas as pd\n",
    "import matplotlib.pyplot as plt"
   ]
  },
  {
   "cell_type": "code",
   "execution_count": 307,
   "metadata": {},
   "outputs": [],
   "source": [
    "def sigmoid(z):\n",
    "    out = 1/(1 + np.exp(-z))\n",
    "    return out\n",
    "\n",
    "def trainNN_mini_batch(X_train, y_train, lr=0.01, amt_epochs=100, n_batchs=16):\n",
    "    \n",
    "    global J_plot\n",
    "    \n",
    "    # Inicializamos aleatoriamente los parámatros\n",
    "    #============================================\n",
    "    W1 = np.random.rand(2,3)\n",
    "    W2 = np.random.rand(3,2)\n",
    "    W3 = np.random.rand(2,1)\n",
    "    b1 = np.random.rand(3,1)\n",
    "    b2 = np.random.rand(2,1)\n",
    "    b3 = np.random.rand()\n",
    "    \n",
    "    n = X_train.shape[0]\n",
    "    \n",
    "    batch_size = int(len(X_train) / n_batchs) # Paso o tamaño en muestras del batch\n",
    "    batch_idxs = np.arange(0, n, n_batchs)    # Indices para tomar las muestras de los batchs\n",
    "    \n",
    "    J_plot = []                           # Inicializo el vector de datos\n",
    "    \n",
    "    # Primer for con las iteraciones\n",
    "    #-------------------------------\n",
    "    for i in range (amt_epochs):\n",
    "        \n",
    "        # Permutamos los índices de los datos de entrenamiento (mezclamos)\n",
    "        idx = np.random.permutation(X_train.shape[0])\n",
    "        X_train = X_train[idx]\n",
    "        y_train = y_train[idx]\n",
    "        \n",
    "        # Armo el batch\n",
    "        X_batch = X_train[batch_idxs,:]\n",
    "        y_batch = y_train[batch_idxs]\n",
    "        \n",
    "        # Segundo for para el batch armado\n",
    "        for j in range(batch_size):           \n",
    "            # Forward\n",
    "            #--------\n",
    "            z1 = W1.T @ X_batch.T + b1\n",
    "            a1 = sigmoid(z1)\n",
    "            z2 = W2.T @ a1 + b2\n",
    "            a2 = sigmoid(z2)\n",
    "            z3 = W3.T @ a2 + b3          \n",
    "            y_hat = sigmoid(z3)\n",
    "            # Calculo el error del pasaje \"forward\" en esta corrida\n",
    "            J = 1/batch_size * np.sum(np.power(y_batch-y_hat,2))\n",
    "            \n",
    "            # Backpropagation\n",
    "            #----------------\n",
    "            # Output layer\n",
    "            dz3 = -2*(y_batch-y_hat) * y_hat * (1-y_hat)\n",
    "            grad_W3 = (1/batch_size) * dz3 @ a2.T\n",
    "            grad_b3 = (1/batch_size) * np.sum(dz3,axis=1,keepdims=True)\n",
    "            \n",
    "            # Hidden layer: Layer 2\n",
    "            dz2 = np.multiply(W3 @ dz3, (a2*(1-a2)))\n",
    "            grad_W2 = (1/batch_size) * dz2 @ a1.T\n",
    "            grad_b2 = (1/batch_size) * np.sum(dz2,axis=1,keepdims=True)\n",
    "            \n",
    "            # Hidden layer: Layer 1\n",
    "            dz1 = np.multiply(W2 @ dz2, (a1*(1-a1)))\n",
    "            grad_W1 = (1/batch_size) * dz1 @ X_batch\n",
    "            grad_b1 = (1/batch_size) * np.sum(dz1,axis=1,keepdims=True)\n",
    "            \n",
    "            # Updates\n",
    "            W3 = W3 - lr * grad_W3.T * J\n",
    "            W2 = W2 - lr * grad_W2.T * J\n",
    "            W1 = W1 - lr * grad_W1.T * J\n",
    "            b3 = b3 - lr * grad_b3 * J\n",
    "            b2 = b2 - lr * grad_b2 * J\n",
    "            b1 = b1 - lr * grad_b1 * J\n",
    "            \n",
    "        # Guardo el valor de la función de costo a la salida de cada batch\n",
    "        J_plot.append(J)\n",
    "        \n",
    "    return W1,W2,W3,b1,b2,b3\n",
    "\n",
    "def testNetwork(W1,W2,W3,b1,b2,b3,X_test):\n",
    "    n = X_test.shape[0]\n",
    "    y_hat = np.zeros((n,1), dtype=float)\n",
    "    for i in range(n):\n",
    "        z1 = W1.T @ X_test.T + b1\n",
    "        a1 = sigmoid(z1)\n",
    "        z2 = W2.T @ a1 + b2\n",
    "        a2 = sigmoid(z2)\n",
    "        z3 = W3.T @ a2 + b3          \n",
    "        y_hat = sigmoid(z3)\n",
    "    \n",
    "    return y_hat"
   ]
  },
  {
   "cell_type": "code",
   "execution_count": 316,
   "metadata": {},
   "outputs": [
    {
     "data": {
      "image/png": "[encoded data removed]",
      "text/plain": [
       "<Figure size 432x288 with 1 Axes>"
      ]
     },
     "metadata": {
      "needs_background": "light"
     },
     "output_type": "display_data"
    }
   ],
   "source": [
    "# Cargamos los datos de entrenamiento\n",
    "#------------------------------------\n",
    "data = pd.read_csv(\"train_data.csv\",skiprows = 0)\n",
    "data = np.array(data)\n",
    "\n",
    "# Entrenamos la red\n",
    "#------------------\n",
    "X = data[:,:2]\n",
    "y = data[:,2]\n",
    "W1,W2,W3,b1,b2,b3 = trainNN_mini_batch(X, y, lr=0.3, amt_epochs=5000, n_batchs = 8)\n",
    "\n",
    "# Ploteamos la evolución del costo en el aprendizaje\n",
    "#---------------------------------------------------\n",
    "plt.plot(J_plot)\n",
    "plt.gca().set_title('Evolución función de costo')\n",
    "plt.xlabel('Iteraciones')\n",
    "plt.ylabel('Costo')\n",
    "plt.show()"
   ]
  },
  {
   "cell_type": "code",
   "execution_count": 317,
   "metadata": {},
   "outputs": [
    {
     "name": "stdout",
     "output_type": "stream",
     "text": [
      "[[0.99431345 0.03215217 0.03842089 0.0156818  0.00863151 0.995339\n",
      "  0.01486388 0.00397072 0.06491283 0.98959083 0.97821281 0.99184044\n",
      "  0.00470153 0.39698351 0.05030724 0.01028921 0.99024725 0.98993289\n",
      "  0.38946614 0.99620034 0.9982945  0.01496058 0.49228094 0.00285438\n",
      "  0.9922942  0.98419096 0.98916548 0.95235887 0.00439553 0.98145419\n",
      "  0.06642754 0.98092715 0.97293805 0.99417621 0.02394009 0.9885334\n",
      "  0.99103289 0.99877537 0.98267157 0.12391186 0.00299036 0.02628575\n",
      "  0.01323414 0.01598497 0.98759072 0.00596206 0.92980962 0.82439316\n",
      "  0.00722721 0.97993036 0.00312236 0.20888546 0.00331551 0.00616378\n",
      "  0.97615563 0.65799935 0.00423289 0.97462652 0.63334553 0.00342047\n",
      "  0.76642471 0.98913259 0.00496502 0.98237172 0.01472209 0.98971181\n",
      "  0.9751235  0.00497124 0.00895545 0.00612812 0.99100017 0.82529146\n",
      "  0.99481144 0.00952474 0.99350501 0.98864237 0.01446066 0.98016194\n",
      "  0.34852729 0.84950779 0.93935762 0.99439689 0.95800236 0.98097814\n",
      "  0.98872233 0.41774201 0.99209465 0.02307124 0.99142454 0.01237316\n",
      "  0.70136313 0.00391419 0.9954235  0.04959492 0.99277465 0.9919898\n",
      "  0.02088073 0.99676738 0.0146568  0.96430629]]\n",
      "[1. 0. 0. 0. 0. 1. 0. 0. 0. 1. 1. 1. 0. 0. 0. 0. 1. 1. 0. 1. 1. 0. 1. 0.\n",
      " 1. 1. 1. 1. 0. 1. 0. 1. 1. 1. 0. 1. 1. 1. 1. 0. 0. 0. 0. 0. 1. 0. 1. 1.\n",
      " 0. 1. 0. 0. 0. 0. 1. 1. 0. 1. 1. 0. 1. 1. 0. 1. 0. 1. 1. 0. 0. 0. 1. 1.\n",
      " 1. 0. 1. 1. 0. 1. 0. 1. 1. 1. 1. 1. 1. 1. 1. 0. 1. 0. 1. 0. 1. 0. 1. 1.\n",
      " 0. 1. 0. 1.]\n",
      "1.4759085241674297\n"
     ]
    }
   ],
   "source": [
    "# Cargamos los datos de testeo\n",
    "#-----------------------------\n",
    "data = pd.read_csv(\"test_data.csv\",skiprows = 0)\n",
    "data = np.array(data)\n",
    "X = data[:,:2]\n",
    "y = data[:,2]\n",
    "\n",
    "# Testeamos la red con los pesos aprendidos\n",
    "#------------------------------------------\n",
    "y_guess = testNetwork(W1,W2,W3,b1,b2,b3,X)\n",
    "print(y_guess)\n",
    "print(y)\n",
    "print(np.sum(y-y_guess))"
   ]
  },
  {
   "cell_type": "markdown",
   "metadata": {},
   "source": [
    "#### Conclusiones\n",
    "- Se comprueba que la función de costo va disminuyendo con las iteraciones.\n",
    "- Se observan dos escalones (de la función de costo), uno inicial y otro alrededor de la iteración 500 (en algunas corridas estos dos pasos son más marcados)\n",
    "- Al testear la red no se equivoca en ninguna salida...pero tengo dudas sobre:\n",
    "    - ¿Por qué no llega la sigmoidea a saturar? (no llego a tener 1s y 0s en y_guess)\n",
    "    - ¿Por qué se precisa de un learning rate tan alto?...bah...¿es alto?\n",
    "    - ¿Por qué se precisa de tantas iteraciones?\n",
    "    - ¿Cómo elegiría la cantidad de batchs? en 8 más o menos funciona\n",
    "    - ¿Me estoy equivocando en algo?"
   ]
  },
  {
   "cell_type": "code",
   "execution_count": null,
   "metadata": {},
   "outputs": [],
   "source": []
  }
 ],
 "metadata": {
  "kernelspec": {
   "display_name": "Python 3",
   "language": "python",
   "name": "python3"
  },
  "language_info": {
   "codemirror_mode": {
    "name": "ipython",
    "version": 3
   },
   "file_extension": ".py",
   "mimetype": "text/x-python",
   "name": "python",
   "nbconvert_exporter": "python",
   "pygments_lexer": "ipython3",
   "version": "3.7.7"
  }
 },
 "nbformat": 4,
 "nbformat_minor": 4
}
